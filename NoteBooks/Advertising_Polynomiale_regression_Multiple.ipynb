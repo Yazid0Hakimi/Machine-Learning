{
 "cells": [
  {
   "cell_type": "markdown",
   "id": "952e8adb",
   "metadata": {},
   "source": [
    "# Modèle de Régression Polynomiale Multivariée\r\n",
    "\r\n",
    "Dans ce devoir, nous allons développer un modèle de régression polynomiale 'from scratch' de degré 2 pour prédire les ventes en fonction des dépenses publicitaires en TV, Radio et Newspapers du dataset 'Advertising'. Ensuite, nous comparerons les résultats avec le modèle de régression linéaire multiple que vous avez déjà développé pour déterminer quel modèle choisir.\r\n",
    "\r\n",
    "## Consignes :\r\n",
    "\r\n",
    "1. **Développement du Modèle de Régression Polynomiale 'From Scratch' :**\r\n",
    "   - Implémenter un modèle de régression polynomiale 'from scratch' de degré 2 en utilisant les dépenses publicitaires en TV, Radio et Newspapers comme variables prédictives pour prédire les ventes.\r\n",
    "   \r\n",
    "2. **Comparaison des Résultats :**\r\n",
    "   - Comparer les performances du modèle de régression polynomiale avec celui du modèle de régression linéaire multiple que vous avez déjà développé. Vous pouvez comparer les performances en utilisant des métriques telles que l'erreur quadratique moyenne (MSE), l'erreur absolue moyenne (MAE), ou toute autre métrique pelement,\r\n",
    "[Votre Nom]\r\n"
   ]
  },
  {
   "cell_type": "code",
   "execution_count": 1,
   "id": "4aaf4dbc",
   "metadata": {},
   "outputs": [],
   "source": [
    "import pandas as pd\n",
    "import numpy as np\n",
    "import seaborn as sns\n",
    "import matplotlib.pyplot as plt\n",
    "from sklearn.model_selection import train_test_split\n",
    "from sklearn.preprocessing import StandardScaler\n",
    "\n",
    "%matplotlib inline"
   ]
  },
  {
   "cell_type": "markdown",
   "id": "52aab10c",
   "metadata": {},
   "source": [
    "## 1. Dataset\n",
    "Chargement du dataset Iris pour effectuer les prédictions de la largeur des pétales en fonction de longueur des pétales"
   ]
  },
  {
   "cell_type": "code",
   "execution_count": 2,
   "id": "fd4ad33b",
   "metadata": {},
   "outputs": [
    {
     "data": {
      "text/html": [
       "<div>\n",
       "<style scoped>\n",
       "    .dataframe tbody tr th:only-of-type {\n",
       "        vertical-align: middle;\n",
       "    }\n",
       "\n",
       "    .dataframe tbody tr th {\n",
       "        vertical-align: top;\n",
       "    }\n",
       "\n",
       "    .dataframe thead th {\n",
       "        text-align: right;\n",
       "    }\n",
       "</style>\n",
       "<table border=\"1\" class=\"dataframe\">\n",
       "  <thead>\n",
       "    <tr style=\"text-align: right;\">\n",
       "      <th></th>\n",
       "      <th>TV</th>\n",
       "      <th>Radio</th>\n",
       "      <th>Newspaper</th>\n",
       "      <th>Sales</th>\n",
       "    </tr>\n",
       "  </thead>\n",
       "  <tbody>\n",
       "    <tr>\n",
       "      <th>0</th>\n",
       "      <td>230.1</td>\n",
       "      <td>37.8</td>\n",
       "      <td>69.2</td>\n",
       "      <td>22.1</td>\n",
       "    </tr>\n",
       "    <tr>\n",
       "      <th>1</th>\n",
       "      <td>44.5</td>\n",
       "      <td>39.3</td>\n",
       "      <td>45.1</td>\n",
       "      <td>10.4</td>\n",
       "    </tr>\n",
       "    <tr>\n",
       "      <th>2</th>\n",
       "      <td>17.2</td>\n",
       "      <td>45.9</td>\n",
       "      <td>69.3</td>\n",
       "      <td>12.0</td>\n",
       "    </tr>\n",
       "    <tr>\n",
       "      <th>3</th>\n",
       "      <td>151.5</td>\n",
       "      <td>41.3</td>\n",
       "      <td>58.5</td>\n",
       "      <td>16.5</td>\n",
       "    </tr>\n",
       "    <tr>\n",
       "      <th>4</th>\n",
       "      <td>180.8</td>\n",
       "      <td>10.8</td>\n",
       "      <td>58.4</td>\n",
       "      <td>17.9</td>\n",
       "    </tr>\n",
       "    <tr>\n",
       "      <th>...</th>\n",
       "      <td>...</td>\n",
       "      <td>...</td>\n",
       "      <td>...</td>\n",
       "      <td>...</td>\n",
       "    </tr>\n",
       "    <tr>\n",
       "      <th>195</th>\n",
       "      <td>38.2</td>\n",
       "      <td>3.7</td>\n",
       "      <td>13.8</td>\n",
       "      <td>7.6</td>\n",
       "    </tr>\n",
       "    <tr>\n",
       "      <th>196</th>\n",
       "      <td>94.2</td>\n",
       "      <td>4.9</td>\n",
       "      <td>8.1</td>\n",
       "      <td>14.0</td>\n",
       "    </tr>\n",
       "    <tr>\n",
       "      <th>197</th>\n",
       "      <td>177.0</td>\n",
       "      <td>9.3</td>\n",
       "      <td>6.4</td>\n",
       "      <td>14.8</td>\n",
       "    </tr>\n",
       "    <tr>\n",
       "      <th>198</th>\n",
       "      <td>283.6</td>\n",
       "      <td>42.0</td>\n",
       "      <td>66.2</td>\n",
       "      <td>25.5</td>\n",
       "    </tr>\n",
       "    <tr>\n",
       "      <th>199</th>\n",
       "      <td>232.1</td>\n",
       "      <td>8.6</td>\n",
       "      <td>8.7</td>\n",
       "      <td>18.4</td>\n",
       "    </tr>\n",
       "  </tbody>\n",
       "</table>\n",
       "<p>200 rows × 4 columns</p>\n",
       "</div>"
      ],
      "text/plain": [
       "        TV  Radio  Newspaper  Sales\n",
       "0    230.1   37.8       69.2   22.1\n",
       "1     44.5   39.3       45.1   10.4\n",
       "2     17.2   45.9       69.3   12.0\n",
       "3    151.5   41.3       58.5   16.5\n",
       "4    180.8   10.8       58.4   17.9\n",
       "..     ...    ...        ...    ...\n",
       "195   38.2    3.7       13.8    7.6\n",
       "196   94.2    4.9        8.1   14.0\n",
       "197  177.0    9.3        6.4   14.8\n",
       "198  283.6   42.0       66.2   25.5\n",
       "199  232.1    8.6        8.7   18.4\n",
       "\n",
       "[200 rows x 4 columns]"
      ]
     },
     "execution_count": 2,
     "metadata": {},
     "output_type": "execute_result"
    }
   ],
   "source": [
    "file_path = r'dataSets\\Advertising.csv'\n",
    "dataset = pd.read_csv(file_path)\n",
    "dataset"
   ]
  },
  {
   "cell_type": "code",
   "execution_count": 3,
   "id": "b1933fdf",
   "metadata": {},
   "outputs": [
    {
     "data": {
      "text/html": [
       "<div>\n",
       "<style scoped>\n",
       "    .dataframe tbody tr th:only-of-type {\n",
       "        vertical-align: middle;\n",
       "    }\n",
       "\n",
       "    .dataframe tbody tr th {\n",
       "        vertical-align: top;\n",
       "    }\n",
       "\n",
       "    .dataframe thead th {\n",
       "        text-align: right;\n",
       "    }\n",
       "</style>\n",
       "<table border=\"1\" class=\"dataframe\">\n",
       "  <thead>\n",
       "    <tr style=\"text-align: right;\">\n",
       "      <th></th>\n",
       "      <th>TV</th>\n",
       "      <th>Radio</th>\n",
       "      <th>Newspaper</th>\n",
       "      <th>Sales</th>\n",
       "    </tr>\n",
       "  </thead>\n",
       "  <tbody>\n",
       "    <tr>\n",
       "      <th>0</th>\n",
       "      <td>230.1</td>\n",
       "      <td>37.8</td>\n",
       "      <td>69.2</td>\n",
       "      <td>22.1</td>\n",
       "    </tr>\n",
       "    <tr>\n",
       "      <th>1</th>\n",
       "      <td>44.5</td>\n",
       "      <td>39.3</td>\n",
       "      <td>45.1</td>\n",
       "      <td>10.4</td>\n",
       "    </tr>\n",
       "    <tr>\n",
       "      <th>2</th>\n",
       "      <td>17.2</td>\n",
       "      <td>45.9</td>\n",
       "      <td>69.3</td>\n",
       "      <td>12.0</td>\n",
       "    </tr>\n",
       "    <tr>\n",
       "      <th>3</th>\n",
       "      <td>151.5</td>\n",
       "      <td>41.3</td>\n",
       "      <td>58.5</td>\n",
       "      <td>16.5</td>\n",
       "    </tr>\n",
       "    <tr>\n",
       "      <th>4</th>\n",
       "      <td>180.8</td>\n",
       "      <td>10.8</td>\n",
       "      <td>58.4</td>\n",
       "      <td>17.9</td>\n",
       "    </tr>\n",
       "  </tbody>\n",
       "</table>\n",
       "</div>"
      ],
      "text/plain": [
       "      TV  Radio  Newspaper  Sales\n",
       "0  230.1   37.8       69.2   22.1\n",
       "1   44.5   39.3       45.1   10.4\n",
       "2   17.2   45.9       69.3   12.0\n",
       "3  151.5   41.3       58.5   16.5\n",
       "4  180.8   10.8       58.4   17.9"
      ]
     },
     "execution_count": 3,
     "metadata": {},
     "output_type": "execute_result"
    }
   ],
   "source": [
    "dataset.head()"
   ]
  },
  {
   "cell_type": "code",
   "execution_count": 4,
   "id": "7b6ad56e",
   "metadata": {},
   "outputs": [
    {
     "data": {
      "image/png": "[encoded data removed]",
      "text/plain": [
       "<Figure size 640x480 with 1 Axes>"
      ]
     },
     "metadata": {},
     "output_type": "display_data"
    },
    {
     "data": {
      "image/png": "[encoded data removed]",
      "text/plain": [
       "<Figure size 640x480 with 1 Axes>"
      ]
     },
     "metadata": {},
     "output_type": "display_data"
    },
    {
     "data": {
      "image/png": "[encoded data removed]",
      "text/plain": [
       "<Figure size 640x480 with 1 Axes>"
      ]
     },
     "metadata": {},
     "output_type": "display_data"
    }
   ],
   "source": [
    "sns.scatterplot(x='Newspaper', y='Sales', data=dataset)\n",
    "plt.xlabel('Newspaper')\n",
    "plt.ylabel('Sales')\n",
    "plt.show()\n",
    "\n",
    "# Plot for TV vs Sales\n",
    "sns.scatterplot(x='TV', y='Sales', data=dataset)\n",
    "plt.xlabel('TV')\n",
    "plt.ylabel('Sales')\n",
    "plt.show()\n",
    "\n",
    "# Plot for Radio vs Sales\n",
    "sns.scatterplot(x='Radio', y='Sales', data=dataset)\n",
    "plt.xlabel('Radio')\n",
    "plt.ylabel('Sales')\n",
    "plt.show()"
   ]
  },
  {
   "cell_type": "code",
   "execution_count": 5,
   "id": "dc5a27ae",
   "metadata": {},
   "outputs": [
    {
     "data": {
      "text/plain": [
       "array([[ 37.8, 230.1,  69.2],\n",
       "       [ 39.3,  44.5,  45.1],\n",
       "       [ 45.9,  17.2,  69.3],\n",
       "       [ 41.3, 151.5,  58.5],\n",
       "       [ 10.8, 180.8,  58.4],\n",
       "       [ 48.9,   8.7,  75. ],\n",
       "       [ 32.8,  57.5,  23.5],\n",
       "       [ 19.6, 120.2,  11.6],\n",
       "       [  2.1,   8.6,   1. ],\n",
       "       [  2.6, 199.8,  21.2],\n",
       "       [  5.8,  66.1,  24.2],\n",
       "       [ 24. , 214.7,   4. ],\n",
       "       [ 35.1,  23.8,  65.9],\n",
       "       [  7.6,  97.5,   7.2],\n",
       "       [ 32.9, 204.1,  46. ],\n",
       "       [ 47.7, 195.4,  52.9],\n",
       "       [ 36.6,  67.8, 114. ],\n",
       "       [ 39.6, 281.4,  55.8],\n",
       "       [ 20.5,  69.2,  18.3],\n",
       "       [ 23.9, 147.3,  19.1],\n",
       "       [ 27.7, 218.4,  53.4],\n",
       "       [  5.1, 237.4,  23.5],\n",
       "       [ 15.9,  13.2,  49.6],\n",
       "       [ 16.9, 228.3,  26.2],\n",
       "       [ 12.6,  62.3,  18.3],\n",
       "       [  3.5, 262.9,  19.5],\n",
       "       [ 29.3, 142.9,  12.6],\n",
       "       [ 16.7, 240.1,  22.9],\n",
       "       [ 27.1, 248.8,  22.9],\n",
       "       [ 16. ,  70.6,  40.8],\n",
       "       [ 28.3, 292.9,  43.2],\n",
       "       [ 17.4, 112.9,  38.6],\n",
       "       [  1.5,  97.2,  30. ],\n",
       "       [ 20. , 265.6,   0.3],\n",
       "       [  1.4,  95.7,   7.4],\n",
       "       [  4.1, 290.7,   8.5],\n",
       "       [ 43.8, 266.9,   5. ],\n",
       "       [ 49.4,  74.7,  45.7],\n",
       "       [ 26.7,  43.1,  35.1],\n",
       "       [ 37.7, 228. ,  32. ],\n",
       "       [ 22.3, 202.5,  31.6],\n",
       "       [ 33.4, 177. ,  38.7],\n",
       "       [ 27.7, 293.6,   1.8],\n",
       "       [  8.4, 206.9,  26.4],\n",
       "       [ 25.7,  25.1,  43.3],\n",
       "       [ 22.5, 175.1,  31.5],\n",
       "       [  9.9,  89.7,  35.7],\n",
       "       [ 41.5, 239.9,  18.5],\n",
       "       [ 15.8, 227.2,  49.9],\n",
       "       [ 11.7,  66.9,  36.8],\n",
       "       [  3.1, 199.8,  34.6],\n",
       "       [  9.6, 100.4,   3.6],\n",
       "       [ 41.7, 216.4,  39.6],\n",
       "       [ 46.2, 182.6,  58.7],\n",
       "       [ 28.8, 262.7,  15.9],\n",
       "       [ 49.4, 198.9,  60. ],\n",
       "       [ 28.1,   7.3,  41.4],\n",
       "       [ 19.2, 136.2,  16.6],\n",
       "       [ 49.6, 210.8,  37.7],\n",
       "       [ 29.5, 210.7,   9.3],\n",
       "       [  2. ,  53.5,  21.4],\n",
       "       [ 42.7, 261.3,  54.7],\n",
       "       [ 15.5, 239.3,  27.3],\n",
       "       [ 29.6, 102.7,   8.4],\n",
       "       [ 42.8, 131.1,  28.9],\n",
       "       [  9.3,  69. ,   0.9],\n",
       "       [ 24.6,  31.5,   2.2],\n",
       "       [ 14.5, 139.3,  10.2],\n",
       "       [ 27.5, 237.4,  11. ],\n",
       "       [ 43.9, 216.8,  27.2],\n",
       "       [ 30.6, 199.1,  38.7],\n",
       "       [ 14.3, 109.8,  31.7],\n",
       "       [ 33. ,  26.8,  19.3],\n",
       "       [  5.7, 129.4,  31.3],\n",
       "       [ 24.6, 213.4,  13.1],\n",
       "       [ 43.7,  16.9,  89.4],\n",
       "       [  1.6,  27.5,  20.7],\n",
       "       [ 28.5, 120.5,  14.2],\n",
       "       [ 29.9,   5.4,   9.4],\n",
       "       [  7.7, 116. ,  23.1],\n",
       "       [ 26.7,  76.4,  22.3],\n",
       "       [  4.1, 239.8,  36.9],\n",
       "       [ 20.3,  75.3,  32.5],\n",
       "       [ 44.5,  68.4,  35.6],\n",
       "       [ 43. , 213.5,  33.8],\n",
       "       [ 18.4, 193.2,  65.7],\n",
       "       [ 27.5,  76.3,  16. ],\n",
       "       [ 40.6, 110.7,  63.2],\n",
       "       [ 25.5,  88.3,  73.4],\n",
       "       [ 47.8, 109.8,  51.4],\n",
       "       [  4.9, 134.3,   9.3],\n",
       "       [  1.5,  28.6,  33. ],\n",
       "       [ 33.5, 217.7,  59. ],\n",
       "       [ 36.5, 250.9,  72.3],\n",
       "       [ 14. , 107.4,  10.9],\n",
       "       [ 31.6, 163.3,  52.9],\n",
       "       [  3.5, 197.6,   5.9],\n",
       "       [ 21. , 184.9,  22. ],\n",
       "       [ 42.3, 289.7,  51.2],\n",
       "       [ 41.7, 135.2,  45.9],\n",
       "       [  4.3, 222.4,  49.8],\n",
       "       [ 36.3, 296.4, 100.9],\n",
       "       [ 10.1, 280.2,  21.4],\n",
       "       [ 17.2, 187.9,  17.9],\n",
       "       [ 34.3, 238.2,   5.3],\n",
       "       [ 46.4, 137.9,  59. ],\n",
       "       [ 11. ,  25. ,  29.7],\n",
       "       [  0.3,  90.4,  23.2],\n",
       "       [  0.4,  13.1,  25.6],\n",
       "       [ 26.9, 255.4,   5.5],\n",
       "       [  8.2, 225.8,  56.5],\n",
       "       [ 38. , 241.7,  23.2],\n",
       "       [ 15.4, 175.7,   2.4],\n",
       "       [ 20.6, 209.6,  10.7],\n",
       "       [ 46.8,  78.2,  34.5],\n",
       "       [ 35. ,  75.1,  52.7],\n",
       "       [ 14.3, 139.2,  25.6],\n",
       "       [  0.8,  76.4,  14.8],\n",
       "       [ 36.9, 125.7,  79.2],\n",
       "       [ 16. ,  19.4,  22.3],\n",
       "       [ 26.8, 141.3,  46.2],\n",
       "       [ 21.7,  18.8,  50.4],\n",
       "       [  2.4, 224. ,  15.6],\n",
       "       [ 34.6, 123.1,  12.4],\n",
       "       [ 32.3, 229.5,  74.2],\n",
       "       [ 11.8,  87.2,  25.9],\n",
       "       [ 38.9,   7.8,  50.6],\n",
       "       [  0. ,  80.2,   9.2],\n",
       "       [ 49. , 220.3,   3.2],\n",
       "       [ 12. ,  59.6,  43.1],\n",
       "       [ 39.6,   0.7,   8.7],\n",
       "       [  2.9, 265.2,  43. ],\n",
       "       [ 27.2,   8.4,   2.1],\n",
       "       [ 33.5, 219.8,  45.1],\n",
       "       [ 38.6,  36.9,  65.6],\n",
       "       [ 47. ,  48.3,   8.5],\n",
       "       [ 39. ,  25.6,   9.3],\n",
       "       [ 28.9, 273.7,  59.7],\n",
       "       [ 25.9,  43. ,  20.5],\n",
       "       [ 43.9, 184.9,   1.7],\n",
       "       [ 17. ,  73.4,  12.9],\n",
       "       [ 35.4, 193.7,  75.6],\n",
       "       [ 33.2, 220.5,  37.9],\n",
       "       [  5.7, 104.6,  34.4],\n",
       "       [ 14.8,  96.2,  38.9],\n",
       "       [  1.9, 140.3,   9. ],\n",
       "       [  7.3, 240.1,   8.7],\n",
       "       [ 49. , 243.2,  44.3],\n",
       "       [ 40.3,  38. ,  11.9],\n",
       "       [ 25.8,  44.7,  20.6],\n",
       "       [ 13.9, 280.7,  37. ],\n",
       "       [  8.4, 121. ,  48.7],\n",
       "       [ 23.3, 197.6,  14.2],\n",
       "       [ 39.7, 171.3,  37.7],\n",
       "       [ 21.1, 187.8,   9.5],\n",
       "       [ 11.6,   4.1,   5.7],\n",
       "       [ 43.5,  93.9,  50.5],\n",
       "       [  1.3, 149.8,  24.3],\n",
       "       [ 36.9,  11.7,  45.2],\n",
       "       [ 18.4, 131.7,  34.6],\n",
       "       [ 18.1, 172.5,  30.7],\n",
       "       [ 35.8,  85.7,  49.3],\n",
       "       [ 18.1, 188.4,  25.6],\n",
       "       [ 36.8, 163.5,   7.4],\n",
       "       [ 14.7, 117.2,   5.4],\n",
       "       [  3.4, 234.5,  84.8],\n",
       "       [ 37.6,  17.9,  21.6],\n",
       "       [  5.2, 206.8,  19.4],\n",
       "       [ 23.6, 215.4,  57.6],\n",
       "       [ 10.6, 284.3,   6.4],\n",
       "       [ 11.6,  50. ,  18.4],\n",
       "       [ 20.9, 164.5,  47.4],\n",
       "       [ 20.1,  19.6,  17. ],\n",
       "       [  7.1, 168.4,  12.8],\n",
       "       [  3.4, 222.4,  13.1],\n",
       "       [ 48.9, 276.9,  41.8],\n",
       "       [ 30.2, 248.4,  20.3],\n",
       "       [  7.8, 170.2,  35.2],\n",
       "       [  2.3, 276.7,  23.7],\n",
       "       [ 10. , 165.6,  17.6],\n",
       "       [  2.6, 156.6,   8.3],\n",
       "       [  5.4, 218.5,  27.4],\n",
       "       [  5.7,  56.2,  29.7],\n",
       "       [ 43. , 287.6,  71.8],\n",
       "       [ 21.3, 253.8,  30. ],\n",
       "       [ 45.1, 205. ,  19.6],\n",
       "       [  2.1, 139.5,  26.6],\n",
       "       [ 28.7, 191.1,  18.2],\n",
       "       [ 13.9, 286. ,   3.7],\n",
       "       [ 12.1,  18.7,  23.4],\n",
       "       [ 41.1,  39.5,   5.8],\n",
       "       [ 10.8,  75.5,   6. ],\n",
       "       [  4.1,  17.2,  31.6],\n",
       "       [ 42. , 166.8,   3.6],\n",
       "       [ 35.6, 149.7,   6. ],\n",
       "       [  3.7,  38.2,  13.8],\n",
       "       [  4.9,  94.2,   8.1],\n",
       "       [  9.3, 177. ,   6.4],\n",
       "       [ 42. , 283.6,  66.2],\n",
       "       [  8.6, 232.1,   8.7]])"
      ]
     },
     "execution_count": 5,
     "metadata": {},
     "output_type": "execute_result"
    }
   ],
   "source": [
    "X=dataset[['Radio','TV','Newspaper']].values\n",
    "X"
   ]
  },
  {
   "cell_type": "code",
   "execution_count": 6,
   "id": "b5c2d3ff",
   "metadata": {},
   "outputs": [
    {
     "data": {
      "text/plain": [
       "array([[22.1],\n",
       "       [10.4],\n",
       "       [12. ],\n",
       "       [16.5],\n",
       "       [17.9],\n",
       "       [ 7.2],\n",
       "       [11.8],\n",
       "       [13.2],\n",
       "       [ 4.8],\n",
       "       [15.6],\n",
       "       [12.6],\n",
       "       [17.4],\n",
       "       [ 9.2],\n",
       "       [13.7],\n",
       "       [19. ],\n",
       "       [22.4],\n",
       "       [12.5],\n",
       "       [24.4],\n",
       "       [11.3],\n",
       "       [14.6],\n",
       "       [18. ],\n",
       "       [17.5],\n",
       "       [ 5.6],\n",
       "       [20.5],\n",
       "       [ 9.7],\n",
       "       [17. ],\n",
       "       [15. ],\n",
       "       [20.9],\n",
       "       [18.9],\n",
       "       [10.5],\n",
       "       [21.4],\n",
       "       [11.9],\n",
       "       [13.2],\n",
       "       [17.4],\n",
       "       [11.9],\n",
       "       [17.8],\n",
       "       [25.4],\n",
       "       [14.7],\n",
       "       [10.1],\n",
       "       [21.5],\n",
       "       [16.6],\n",
       "       [17.1],\n",
       "       [20.7],\n",
       "       [17.9],\n",
       "       [ 8.5],\n",
       "       [16.1],\n",
       "       [10.6],\n",
       "       [23.2],\n",
       "       [19.8],\n",
       "       [ 9.7],\n",
       "       [16.4],\n",
       "       [10.7],\n",
       "       [22.6],\n",
       "       [21.2],\n",
       "       [20.2],\n",
       "       [23.7],\n",
       "       [ 5.5],\n",
       "       [13.2],\n",
       "       [23.8],\n",
       "       [18.4],\n",
       "       [ 8.1],\n",
       "       [24.2],\n",
       "       [20.7],\n",
       "       [14. ],\n",
       "       [16. ],\n",
       "       [11.3],\n",
       "       [11. ],\n",
       "       [13.4],\n",
       "       [18.9],\n",
       "       [22.3],\n",
       "       [18.3],\n",
       "       [12.4],\n",
       "       [ 8.8],\n",
       "       [11. ],\n",
       "       [17. ],\n",
       "       [ 8.7],\n",
       "       [ 6.9],\n",
       "       [14.2],\n",
       "       [ 5.3],\n",
       "       [11. ],\n",
       "       [11.8],\n",
       "       [17.3],\n",
       "       [11.3],\n",
       "       [13.6],\n",
       "       [21.7],\n",
       "       [20.2],\n",
       "       [12. ],\n",
       "       [16. ],\n",
       "       [12.9],\n",
       "       [16.7],\n",
       "       [14. ],\n",
       "       [ 7.3],\n",
       "       [19.4],\n",
       "       [22.2],\n",
       "       [11.5],\n",
       "       [16.9],\n",
       "       [16.7],\n",
       "       [20.5],\n",
       "       [25.4],\n",
       "       [17.2],\n",
       "       [16.7],\n",
       "       [23.8],\n",
       "       [19.8],\n",
       "       [19.7],\n",
       "       [20.7],\n",
       "       [15. ],\n",
       "       [ 7.2],\n",
       "       [12. ],\n",
       "       [ 5.3],\n",
       "       [19.8],\n",
       "       [18.4],\n",
       "       [21.8],\n",
       "       [17.1],\n",
       "       [20.9],\n",
       "       [14.6],\n",
       "       [12.6],\n",
       "       [12.2],\n",
       "       [ 9.4],\n",
       "       [15.9],\n",
       "       [ 6.6],\n",
       "       [15.5],\n",
       "       [ 7. ],\n",
       "       [16.6],\n",
       "       [15.2],\n",
       "       [19.7],\n",
       "       [10.6],\n",
       "       [ 6.6],\n",
       "       [11.9],\n",
       "       [24.7],\n",
       "       [ 9.7],\n",
       "       [ 1.6],\n",
       "       [17.7],\n",
       "       [ 5.7],\n",
       "       [19.6],\n",
       "       [10.8],\n",
       "       [11.6],\n",
       "       [ 9.5],\n",
       "       [20.8],\n",
       "       [ 9.6],\n",
       "       [20.7],\n",
       "       [10.9],\n",
       "       [19.2],\n",
       "       [20.1],\n",
       "       [10.4],\n",
       "       [12.3],\n",
       "       [10.3],\n",
       "       [18.2],\n",
       "       [25.4],\n",
       "       [10.9],\n",
       "       [10.1],\n",
       "       [16.1],\n",
       "       [11.6],\n",
       "       [16.6],\n",
       "       [16. ],\n",
       "       [20.6],\n",
       "       [ 3.2],\n",
       "       [15.3],\n",
       "       [10.1],\n",
       "       [ 7.3],\n",
       "       [12.9],\n",
       "       [16.4],\n",
       "       [13.3],\n",
       "       [19.9],\n",
       "       [18. ],\n",
       "       [11.9],\n",
       "       [16.9],\n",
       "       [ 8. ],\n",
       "       [17.2],\n",
       "       [17.1],\n",
       "       [20. ],\n",
       "       [ 8.4],\n",
       "       [17.5],\n",
       "       [ 7.6],\n",
       "       [16.7],\n",
       "       [16.5],\n",
       "       [27. ],\n",
       "       [20.2],\n",
       "       [16.7],\n",
       "       [16.8],\n",
       "       [17.6],\n",
       "       [15.5],\n",
       "       [17.2],\n",
       "       [ 8.7],\n",
       "       [26.2],\n",
       "       [17.6],\n",
       "       [22.6],\n",
       "       [10.3],\n",
       "       [17.3],\n",
       "       [20.9],\n",
       "       [ 6.7],\n",
       "       [10.8],\n",
       "       [11.9],\n",
       "       [ 5.9],\n",
       "       [19.6],\n",
       "       [17.3],\n",
       "       [ 7.6],\n",
       "       [14. ],\n",
       "       [14.8],\n",
       "       [25.5],\n",
       "       [18.4]])"
      ]
     },
     "execution_count": 6,
     "metadata": {},
     "output_type": "execute_result"
    }
   ],
   "source": [
    "Y=dataset[['Sales']].values\n",
    "Y"
   ]
  },
  {
   "cell_type": "code",
   "execution_count": 7,
   "id": "36c638b6-4105-4d18-b2de-c7c71f1eb965",
   "metadata": {},
   "outputs": [
    {
     "name": "stdout",
     "output_type": "stream",
     "text": [
      "(200, 3)\n",
      "(200, 1)\n"
     ]
    }
   ],
   "source": [
    "print (X.shape)\n",
    "print (Y.shape)"
   ]
  },
  {
   "cell_type": "code",
   "execution_count": 8,
   "id": "53cf6861",
   "metadata": {},
   "outputs": [],
   "source": [
    "Y = Y.reshape(Y.shape[0], 1)"
   ]
  },
  {
   "cell_type": "code",
   "execution_count": 9,
   "id": "96f1cead",
   "metadata": {},
   "outputs": [
    {
     "data": {
      "text/plain": [
       "(200, 3)"
      ]
     },
     "execution_count": 9,
     "metadata": {},
     "output_type": "execute_result"
    }
   ],
   "source": [
    "X.shape"
   ]
  },
  {
   "cell_type": "code",
   "execution_count": 10,
   "id": "2d00f18b-211a-40b5-a810-383a8b26c6ed",
   "metadata": {},
   "outputs": [],
   "source": [
    "X_train, X_test, Y_train, Y_test = train_test_split(X, Y, test_size=0.2, random_state=42)"
   ]
  },
  {
   "cell_type": "code",
   "execution_count": 11,
   "id": "dbf7cb53-4d6e-4917-821e-b8804a0d4a0d",
   "metadata": {},
   "outputs": [
    {
     "data": {
      "text/plain": [
       "(200, 3)"
      ]
     },
     "execution_count": 11,
     "metadata": {},
     "output_type": "execute_result"
    }
   ],
   "source": [
    "X.shape"
   ]
  },
  {
   "cell_type": "code",
   "execution_count": 12,
   "id": "0cda34fb",
   "metadata": {},
   "outputs": [],
   "source": [
    "scaler = StandardScaler()\n",
    "\n",
    "X_train_norm = scaler.fit_transform(X_train)\n",
    "X_test_norm = scaler.transform(X_test)"
   ]
  },
  {
   "cell_type": "code",
   "execution_count": 13,
   "id": "f0e2c713-9fc7-40f6-81d0-9893e0baef98",
   "metadata": {},
   "outputs": [],
   "source": [
    "\n",
    "X_train_norm = np.hstack((X_train_norm,\n",
    "               X_train_norm[:,0:1]**2,\n",
    "               X_train_norm[:,1:2]**2,\n",
    "               X_train_norm[:,2:3]**2,\n",
    "               X_train_norm[:,0:1]*X_train_norm[:,1:2],\n",
    "               X_train_norm[:,0:1]*X_train_norm[:,2:3],\n",
    "               X_train_norm[:,1:2]*X_train_norm[:,2:3],\n",
    "               np.ones((X_train_norm.shape[0], 1)))) # ajoute un vecteur Biais de dimension (x.shape[0], 1)\n"
   ]
  },
  {
   "cell_type": "code",
   "execution_count": 14,
   "id": "306e777e-8134-4aef-a145-3f0b5043cfd0",
   "metadata": {},
   "outputs": [],
   "source": [
    "X_test_norm = np.hstack((X_test_norm,\n",
    "               X_test_norm[:,0:1]**2,\n",
    "               X_test_norm[:,1:2]**2,\n",
    "               X_test_norm[:,2:3]**2,\n",
    "               X_test_norm[:,0:1]*X_test_norm[:,1:2],\n",
    "               X_test_norm[:,0:1]*X_test_norm[:,2:3],\n",
    "               X_test_norm[:,1:2]*X_test_norm[:,2:3],\n",
    "               np.ones((X_test_norm.shape[0], 1)))) # ajoute un vecteur Biais de dimension (x.shape[0], 1)\n"
   ]
  },
  {
   "cell_type": "code",
   "execution_count": 15,
   "id": "a111c214",
   "metadata": {},
   "outputs": [
    {
     "name": "stdout",
     "output_type": "stream",
     "text": [
      "(200, 3)\n",
      "(40, 3)\n",
      "(160, 1)\n",
      "(40, 1)\n"
     ]
    }
   ],
   "source": [
    "print (X.shape) \n",
    "print(X_test.shape)\n",
    "print (Y_train.shape)\n",
    "print (Y_test.shape)"
   ]
  },
  {
   "cell_type": "code",
   "execution_count": 16,
   "id": "eb4f57d7",
   "metadata": {},
   "outputs": [
    {
     "name": "stdout",
     "output_type": "stream",
     "text": [
      "Theta: [[ 1.76405235]\n",
      " [ 0.40015721]\n",
      " [ 0.97873798]\n",
      " [ 2.2408932 ]\n",
      " [ 1.86755799]\n",
      " [-0.97727788]\n",
      " [ 0.95008842]\n",
      " [-0.15135721]\n",
      " [-0.10321885]\n",
      " [ 0.4105985 ]]\n"
     ]
    }
   ],
   "source": [
    "np.random.seed(0) # pour produire toujours le meme vecteur theta aléatoire\n",
    "theta=np.random.randn(10,1)\n",
    "print('Theta:',theta)"
   ]
  },
  {
   "cell_type": "code",
   "execution_count": 17,
   "id": "0594ec56",
   "metadata": {},
   "outputs": [],
   "source": [
    "def model(X, theta):\n",
    "    return X.dot(theta)"
   ]
  },
  {
   "cell_type": "code",
   "execution_count": 18,
   "id": "e8b25651",
   "metadata": {},
   "outputs": [],
   "source": [
    "def cost_function(X, y, theta):\n",
    "    m = len(y)\n",
    "    return 1/(2*m) * np.sum((model(X, theta) - y)**2)"
   ]
  },
  {
   "cell_type": "code",
   "execution_count": 19,
   "id": "b9230ee7-7cc9-45f0-8274-a068bb124a22",
   "metadata": {},
   "outputs": [
    {
     "name": "stdout",
     "output_type": "stream",
     "text": [
      "(200, 3) (160, 1)\n"
     ]
    }
   ],
   "source": [
    "print(X.shape, Y_train.shape)"
   ]
  },
  {
   "cell_type": "code",
   "execution_count": 21,
   "id": "d1c71f2d",
   "metadata": {},
   "outputs": [
    {
     "data": {
      "text/plain": [
       "85.57038163607669"
      ]
     },
     "execution_count": 21,
     "metadata": {},
     "output_type": "execute_result"
    }
   ],
   "source": [
    "cost_function(X_train_norm, Y_train, theta)"
   ]
  },
  {
   "cell_type": "code",
   "execution_count": 22,
   "id": "c857c0a4",
   "metadata": {},
   "outputs": [],
   "source": [
    "def grad(X, y, theta):\n",
    "    m = len(y)\n",
    "    return 1/m * X.T.dot(model(X, theta) - y)"
   ]
  },
  {
   "cell_type": "code",
   "execution_count": 23,
   "id": "05a3b90c-a756-4436-8cf3-68744941be16",
   "metadata": {},
   "outputs": [],
   "source": [
    "def gradient_descent(X, y, theta, learning_rate, n_iterations):\n",
    "    \n",
    "    cost_history = np.zeros(n_iterations) # création d'un tableau de stockage pour enregistrer l'évolution du Cout du modele\n",
    "    \n",
    "    for i in range(0, n_iterations):\n",
    "        theta = theta - learning_rate * grad(X, y, theta) # mise a jour du parametre theta (formule du gradient descent)\n",
    "        cost_history[i] = cost_function(X, y, theta) # on enregistre la valeur du Cout au tour i dans cost_history[i]\n",
    "        \n",
    "    return theta, cost_history"
   ]
  },
  {
   "cell_type": "code",
   "execution_count": 24,
   "id": "07a2effd-fcb6-4ef0-852b-40a18c074731",
   "metadata": {},
   "outputs": [
    {
     "name": "stdout",
     "output_type": "stream",
     "text": [
      "(160, 10)\n"
     ]
    }
   ],
   "source": [
    "print(X_train_norm.shape)"
   ]
  },
  {
   "cell_type": "code",
   "execution_count": 25,
   "id": "ff513ecd-2e47-469a-842c-a6e5e554e1c2",
   "metadata": {},
   "outputs": [],
   "source": [
    "n_iterations = 10000\n",
    "learning_rate = 0.03\n",
    "\n",
    "theta_final, cost_history = gradient_descent(X_train_norm, Y_train, theta, learning_rate, n_iterations)"
   ]
  },
  {
   "cell_type": "code",
   "execution_count": 26,
   "id": "97825a6d",
   "metadata": {},
   "outputs": [
    {
     "data": {
      "text/plain": [
       "array([[ 1.50531882],\n",
       "       [ 4.48371939],\n",
       "       [ 0.06329735],\n",
       "       [ 0.31545407],\n",
       "       [-0.74933164],\n",
       "       [ 0.03504415],\n",
       "       [ 0.51983801],\n",
       "       [ 0.04927631],\n",
       "       [-0.04357516],\n",
       "       [15.68316222]])"
      ]
     },
     "execution_count": 26,
     "metadata": {},
     "output_type": "execute_result"
    }
   ],
   "source": [
    "# création d'un vecteur prédictions qui contient les prédictions de notre modele final\n",
    "predictions_test = model(X_test_norm, theta_final)\n",
    "predictions_train = model(X_train_norm, theta_final)\n",
    "\n",
    "theta_final"
   ]
  },
  {
   "cell_type": "code",
   "execution_count": null,
   "id": "374bbeba-2cdd-4c0f-8b92-78cbb1e2ba46",
   "metadata": {},
   "outputs": [],
   "source": []
  },
  {
   "cell_type": "code",
   "execution_count": 27,
   "id": "4f1bda99-2c6f-48c7-ae20-8d05bccc9228",
   "metadata": {},
   "outputs": [
    {
     "data": {
      "image/png": "[encoded data removed]",
      "text/plain": [
       "<Figure size 640x480 with 1 Axes>"
      ]
     },
     "metadata": {},
     "output_type": "display_data"
    }
   ],
   "source": [
    "plt.plot(range(n_iterations), cost_history)\n",
    "plt.show()"
   ]
  },
  {
   "cell_type": "code",
   "execution_count": 28,
   "id": "a2660b72-6daa-476b-b529-6c19a9b71d7b",
   "metadata": {},
   "outputs": [],
   "source": [
    "def coef_determination(y, pred):\n",
    "    u = ((y - pred)**2).sum()\n",
    "    v = ((y - y.mean())**2).sum()\n",
    "    return 1 - u/v"
   ]
  },
  {
   "cell_type": "code",
   "execution_count": 32,
   "id": "bed487df-55af-4dc3-ba44-5791d07db46a",
   "metadata": {},
   "outputs": [
    {
     "data": {
      "text/plain": [
       "0.95331743410748"
      ]
     },
     "execution_count": 32,
     "metadata": {},
     "output_type": "execute_result"
    }
   ],
   "source": [
    "coef_determination(Y_test, predictions_test)"
   ]
  },
  {
   "cell_type": "code",
   "execution_count": 31,
   "id": "35b9d712-ed1b-4939-a0a9-f43dbc4ea06b",
   "metadata": {},
   "outputs": [
    {
     "data": {
      "text/plain": [
       "0.9288133512730626"
      ]
     },
     "execution_count": 31,
     "metadata": {},
     "output_type": "execute_result"
    }
   ],
   "source": [
    "coef_determination(Y_train, predictions_train)"
   ]
  },
  {
   "cell_type": "code",
   "execution_count": 39,
   "id": "2d028956-c361-4d1b-8ffc-1cb5d694a2d4",
   "metadata": {},
   "outputs": [
    {
     "data": {
      "text/html": [
       "<div>\n",
       "<style scoped>\n",
       "    .dataframe tbody tr th:only-of-type {\n",
       "        vertical-align: middle;\n",
       "    }\n",
       "\n",
       "    .dataframe tbody tr th {\n",
       "        vertical-align: top;\n",
       "    }\n",
       "\n",
       "    .dataframe thead th {\n",
       "        text-align: right;\n",
       "    }\n",
       "</style>\n",
       "<table border=\"1\" class=\"dataframe\">\n",
       "  <thead>\n",
       "    <tr style=\"text-align: right;\">\n",
       "      <th></th>\n",
       "      <th>Model</th>\n",
       "      <th>Score</th>\n",
       "    </tr>\n",
       "  </thead>\n",
       "  <tbody>\n",
       "    <tr>\n",
       "      <th>0</th>\n",
       "      <td>Polynomial Regression Test</td>\n",
       "      <td>0.953317</td>\n",
       "    </tr>\n",
       "    <tr>\n",
       "      <th>1</th>\n",
       "      <td>Polynomial Regression Train</td>\n",
       "      <td>0.928813</td>\n",
       "    </tr>\n",
       "    <tr>\n",
       "      <th>2</th>\n",
       "      <td>Linear Regression</td>\n",
       "      <td>0.809682</td>\n",
       "    </tr>\n",
       "  </tbody>\n",
       "</table>\n",
       "</div>"
      ],
      "text/plain": [
       "                         Model     Score\n",
       "0   Polynomial Regression Test  0.953317\n",
       "1  Polynomial Regression Train  0.928813\n",
       "2            Linear Regression  0.809682"
      ]
     },
     "execution_count": 39,
     "metadata": {},
     "output_type": "execute_result"
    }
   ],
   "source": [
    "import pandas as pd\n",
    "\n",
    "# Create a dictionary with the data\n",
    "data = {\n",
    "    'Model': ['Polynomial Regression Test', 'Polynomial Regression Train', 'Linear Regression'],\n",
    "    'Score': [0.95331743410748, 0.9288133512730626, 0.8096823809432807]\n",
    "}\n",
    "\n",
    "# Create a DataFrame from the dictionary\n",
    "df = pd.DataFrame(data)\n",
    "\n",
    "# Display the DataFrame\n",
    "df\n"
   ]
  }
 ],
 "metadata": {
  "kernelspec": {
   "display_name": "Python 3 (ipykernel)",
   "language": "python",
   "name": "python3"
  },
  "language_info": {
   "codemirror_mode": {
    "name": "ipython",
    "version": 3
   },
   "file_extension": ".py",
   "mimetype": "text/x-python",
   "name": "python",
   "nbconvert_exporter": "python",
   "pygments_lexer": "ipython3",
   "version": "3.12.1"
  }
 },
 "nbformat": 4,
 "nbformat_minor": 5
}
