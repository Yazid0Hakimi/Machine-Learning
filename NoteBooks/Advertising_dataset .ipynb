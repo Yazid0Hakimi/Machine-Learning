{
 "cells": [
  {
   "cell_type": "code",
   "execution_count": 328,
   "id": "ff69cee2",
   "metadata": {},
   "outputs": [],
   "source": [
    "import numpy as np\n",
    "import pandas as pd\n",
    "import matplotlib.pyplot as plt\n",
    "from sklearn.model_selection import train_test_split"
   ]
  },
  {
   "cell_type": "code",
   "execution_count": 329,
   "id": "b0337878",
   "metadata": {},
   "outputs": [
    {
     "data": {
      "text/html": [
       "<div>\n",
       "<style scoped>\n",
       "    .dataframe tbody tr th:only-of-type {\n",
       "        vertical-align: middle;\n",
       "    }\n",
       "\n",
       "    .dataframe tbody tr th {\n",
       "        vertical-align: top;\n",
       "    }\n",
       "\n",
       "    .dataframe thead th {\n",
       "        text-align: right;\n",
       "    }\n",
       "</style>\n",
       "<table border=\"1\" class=\"dataframe\">\n",
       "  <thead>\n",
       "    <tr style=\"text-align: right;\">\n",
       "      <th></th>\n",
       "      <th>TV</th>\n",
       "      <th>Radio</th>\n",
       "      <th>Newspaper</th>\n",
       "      <th>Sales</th>\n",
       "    </tr>\n",
       "  </thead>\n",
       "  <tbody>\n",
       "    <tr>\n",
       "      <th>0</th>\n",
       "      <td>230.1</td>\n",
       "      <td>37.8</td>\n",
       "      <td>69.2</td>\n",
       "      <td>22.1</td>\n",
       "    </tr>\n",
       "    <tr>\n",
       "      <th>1</th>\n",
       "      <td>44.5</td>\n",
       "      <td>39.3</td>\n",
       "      <td>45.1</td>\n",
       "      <td>10.4</td>\n",
       "    </tr>\n",
       "    <tr>\n",
       "      <th>2</th>\n",
       "      <td>17.2</td>\n",
       "      <td>45.9</td>\n",
       "      <td>69.3</td>\n",
       "      <td>12.0</td>\n",
       "    </tr>\n",
       "    <tr>\n",
       "      <th>3</th>\n",
       "      <td>151.5</td>\n",
       "      <td>41.3</td>\n",
       "      <td>58.5</td>\n",
       "      <td>16.5</td>\n",
       "    </tr>\n",
       "    <tr>\n",
       "      <th>4</th>\n",
       "      <td>180.8</td>\n",
       "      <td>10.8</td>\n",
       "      <td>58.4</td>\n",
       "      <td>17.9</td>\n",
       "    </tr>\n",
       "  </tbody>\n",
       "</table>\n",
       "</div>"
      ],
      "text/plain": [
       "      TV  Radio  Newspaper  Sales\n",
       "0  230.1   37.8       69.2   22.1\n",
       "1   44.5   39.3       45.1   10.4\n",
       "2   17.2   45.9       69.3   12.0\n",
       "3  151.5   41.3       58.5   16.5\n",
       "4  180.8   10.8       58.4   17.9"
      ]
     },
     "execution_count": 329,
     "metadata": {},
     "output_type": "execute_result"
    }
   ],
   "source": [
    "ads_dataset = pd.read_csv('Advertising.csv')\n",
    "ads_dataset.head()"
   ]
  },
  {
   "cell_type": "code",
   "execution_count": 330,
   "id": "706a3de2",
   "metadata": {},
   "outputs": [
    {
     "name": "stdout",
     "output_type": "stream",
     "text": [
      "<class 'pandas.core.frame.DataFrame'>\n",
      "RangeIndex: 200 entries, 0 to 199\n",
      "Data columns (total 4 columns):\n",
      " #   Column     Non-Null Count  Dtype  \n",
      "---  ------     --------------  -----  \n",
      " 0   TV         200 non-null    float64\n",
      " 1   Radio      200 non-null    float64\n",
      " 2   Newspaper  200 non-null    float64\n",
      " 3   Sales      200 non-null    float64\n",
      "dtypes: float64(4)\n",
      "memory usage: 6.4 KB\n"
     ]
    }
   ],
   "source": [
    "ads_dataset.info()"
   ]
  },
  {
   "cell_type": "code",
   "execution_count": 331,
   "id": "8ce41e5c",
   "metadata": {},
   "outputs": [
    {
     "data": {
      "text/html": [
       "<div>\n",
       "<style scoped>\n",
       "    .dataframe tbody tr th:only-of-type {\n",
       "        vertical-align: middle;\n",
       "    }\n",
       "\n",
       "    .dataframe tbody tr th {\n",
       "        vertical-align: top;\n",
       "    }\n",
       "\n",
       "    .dataframe thead th {\n",
       "        text-align: right;\n",
       "    }\n",
       "</style>\n",
       "<table border=\"1\" class=\"dataframe\">\n",
       "  <thead>\n",
       "    <tr style=\"text-align: right;\">\n",
       "      <th></th>\n",
       "      <th>TV</th>\n",
       "      <th>Radio</th>\n",
       "      <th>Newspaper</th>\n",
       "      <th>Sales</th>\n",
       "    </tr>\n",
       "  </thead>\n",
       "  <tbody>\n",
       "    <tr>\n",
       "      <th>count</th>\n",
       "      <td>200.000000</td>\n",
       "      <td>200.000000</td>\n",
       "      <td>200.000000</td>\n",
       "      <td>200.000000</td>\n",
       "    </tr>\n",
       "    <tr>\n",
       "      <th>mean</th>\n",
       "      <td>147.042500</td>\n",
       "      <td>23.264000</td>\n",
       "      <td>30.554000</td>\n",
       "      <td>15.130500</td>\n",
       "    </tr>\n",
       "    <tr>\n",
       "      <th>std</th>\n",
       "      <td>85.854236</td>\n",
       "      <td>14.846809</td>\n",
       "      <td>21.778621</td>\n",
       "      <td>5.283892</td>\n",
       "    </tr>\n",
       "    <tr>\n",
       "      <th>min</th>\n",
       "      <td>0.700000</td>\n",
       "      <td>0.000000</td>\n",
       "      <td>0.300000</td>\n",
       "      <td>1.600000</td>\n",
       "    </tr>\n",
       "    <tr>\n",
       "      <th>25%</th>\n",
       "      <td>74.375000</td>\n",
       "      <td>9.975000</td>\n",
       "      <td>12.750000</td>\n",
       "      <td>11.000000</td>\n",
       "    </tr>\n",
       "    <tr>\n",
       "      <th>50%</th>\n",
       "      <td>149.750000</td>\n",
       "      <td>22.900000</td>\n",
       "      <td>25.750000</td>\n",
       "      <td>16.000000</td>\n",
       "    </tr>\n",
       "    <tr>\n",
       "      <th>75%</th>\n",
       "      <td>218.825000</td>\n",
       "      <td>36.525000</td>\n",
       "      <td>45.100000</td>\n",
       "      <td>19.050000</td>\n",
       "    </tr>\n",
       "    <tr>\n",
       "      <th>max</th>\n",
       "      <td>296.400000</td>\n",
       "      <td>49.600000</td>\n",
       "      <td>114.000000</td>\n",
       "      <td>27.000000</td>\n",
       "    </tr>\n",
       "  </tbody>\n",
       "</table>\n",
       "</div>"
      ],
      "text/plain": [
       "               TV       Radio   Newspaper       Sales\n",
       "count  200.000000  200.000000  200.000000  200.000000\n",
       "mean   147.042500   23.264000   30.554000   15.130500\n",
       "std     85.854236   14.846809   21.778621    5.283892\n",
       "min      0.700000    0.000000    0.300000    1.600000\n",
       "25%     74.375000    9.975000   12.750000   11.000000\n",
       "50%    149.750000   22.900000   25.750000   16.000000\n",
       "75%    218.825000   36.525000   45.100000   19.050000\n",
       "max    296.400000   49.600000  114.000000   27.000000"
      ]
     },
     "execution_count": 331,
     "metadata": {},
     "output_type": "execute_result"
    }
   ],
   "source": [
    "ads_dataset.describe()"
   ]
  },
  {
   "cell_type": "code",
   "execution_count": 332,
   "id": "d78ad240",
   "metadata": {},
   "outputs": [],
   "source": [
    "tv_dataset = ads_dataset[['TV', 'Sales']]\n",
    "radio_dataset = ads_dataset[['Radio', 'Sales']]\n",
    "newspaper_dataset = ads_dataset[['Newspaper', 'Sales']]"
   ]
  },
  {
   "cell_type": "code",
   "execution_count": 333,
   "id": "15dbd2bf",
   "metadata": {},
   "outputs": [
    {
     "data": {
      "text/html": [
       "<div>\n",
       "<style scoped>\n",
       "    .dataframe tbody tr th:only-of-type {\n",
       "        vertical-align: middle;\n",
       "    }\n",
       "\n",
       "    .dataframe tbody tr th {\n",
       "        vertical-align: top;\n",
       "    }\n",
       "\n",
       "    .dataframe thead th {\n",
       "        text-align: right;\n",
       "    }\n",
       "</style>\n",
       "<table border=\"1\" class=\"dataframe\">\n",
       "  <thead>\n",
       "    <tr style=\"text-align: right;\">\n",
       "      <th></th>\n",
       "      <th>TV</th>\n",
       "      <th>Sales</th>\n",
       "    </tr>\n",
       "  </thead>\n",
       "  <tbody>\n",
       "    <tr>\n",
       "      <th>0</th>\n",
       "      <td>230.1</td>\n",
       "      <td>22.1</td>\n",
       "    </tr>\n",
       "    <tr>\n",
       "      <th>1</th>\n",
       "      <td>44.5</td>\n",
       "      <td>10.4</td>\n",
       "    </tr>\n",
       "    <tr>\n",
       "      <th>2</th>\n",
       "      <td>17.2</td>\n",
       "      <td>12.0</td>\n",
       "    </tr>\n",
       "    <tr>\n",
       "      <th>3</th>\n",
       "      <td>151.5</td>\n",
       "      <td>16.5</td>\n",
       "    </tr>\n",
       "    <tr>\n",
       "      <th>4</th>\n",
       "      <td>180.8</td>\n",
       "      <td>17.9</td>\n",
       "    </tr>\n",
       "  </tbody>\n",
       "</table>\n",
       "</div>"
      ],
      "text/plain": [
       "      TV  Sales\n",
       "0  230.1   22.1\n",
       "1   44.5   10.4\n",
       "2   17.2   12.0\n",
       "3  151.5   16.5\n",
       "4  180.8   17.9"
      ]
     },
     "execution_count": 333,
     "metadata": {},
     "output_type": "execute_result"
    }
   ],
   "source": [
    "tv_dataset.head()"
   ]
  },
  {
   "cell_type": "code",
   "execution_count": 334,
   "id": "f22fa94e",
   "metadata": {},
   "outputs": [
    {
     "data": {
      "text/html": [
       "<div>\n",
       "<style scoped>\n",
       "    .dataframe tbody tr th:only-of-type {\n",
       "        vertical-align: middle;\n",
       "    }\n",
       "\n",
       "    .dataframe tbody tr th {\n",
       "        vertical-align: top;\n",
       "    }\n",
       "\n",
       "    .dataframe thead th {\n",
       "        text-align: right;\n",
       "    }\n",
       "</style>\n",
       "<table border=\"1\" class=\"dataframe\">\n",
       "  <thead>\n",
       "    <tr style=\"text-align: right;\">\n",
       "      <th></th>\n",
       "      <th>Radio</th>\n",
       "      <th>Sales</th>\n",
       "    </tr>\n",
       "  </thead>\n",
       "  <tbody>\n",
       "    <tr>\n",
       "      <th>0</th>\n",
       "      <td>37.8</td>\n",
       "      <td>22.1</td>\n",
       "    </tr>\n",
       "    <tr>\n",
       "      <th>1</th>\n",
       "      <td>39.3</td>\n",
       "      <td>10.4</td>\n",
       "    </tr>\n",
       "    <tr>\n",
       "      <th>2</th>\n",
       "      <td>45.9</td>\n",
       "      <td>12.0</td>\n",
       "    </tr>\n",
       "    <tr>\n",
       "      <th>3</th>\n",
       "      <td>41.3</td>\n",
       "      <td>16.5</td>\n",
       "    </tr>\n",
       "    <tr>\n",
       "      <th>4</th>\n",
       "      <td>10.8</td>\n",
       "      <td>17.9</td>\n",
       "    </tr>\n",
       "  </tbody>\n",
       "</table>\n",
       "</div>"
      ],
      "text/plain": [
       "   Radio  Sales\n",
       "0   37.8   22.1\n",
       "1   39.3   10.4\n",
       "2   45.9   12.0\n",
       "3   41.3   16.5\n",
       "4   10.8   17.9"
      ]
     },
     "execution_count": 334,
     "metadata": {},
     "output_type": "execute_result"
    }
   ],
   "source": [
    "radio_dataset.head()"
   ]
  },
  {
   "cell_type": "code",
   "execution_count": 335,
   "id": "de9d2a53",
   "metadata": {},
   "outputs": [
    {
     "data": {
      "text/html": [
       "<div>\n",
       "<style scoped>\n",
       "    .dataframe tbody tr th:only-of-type {\n",
       "        vertical-align: middle;\n",
       "    }\n",
       "\n",
       "    .dataframe tbody tr th {\n",
       "        vertical-align: top;\n",
       "    }\n",
       "\n",
       "    .dataframe thead th {\n",
       "        text-align: right;\n",
       "    }\n",
       "</style>\n",
       "<table border=\"1\" class=\"dataframe\">\n",
       "  <thead>\n",
       "    <tr style=\"text-align: right;\">\n",
       "      <th></th>\n",
       "      <th>Newspaper</th>\n",
       "      <th>Sales</th>\n",
       "    </tr>\n",
       "  </thead>\n",
       "  <tbody>\n",
       "    <tr>\n",
       "      <th>0</th>\n",
       "      <td>69.2</td>\n",
       "      <td>22.1</td>\n",
       "    </tr>\n",
       "    <tr>\n",
       "      <th>1</th>\n",
       "      <td>45.1</td>\n",
       "      <td>10.4</td>\n",
       "    </tr>\n",
       "    <tr>\n",
       "      <th>2</th>\n",
       "      <td>69.3</td>\n",
       "      <td>12.0</td>\n",
       "    </tr>\n",
       "    <tr>\n",
       "      <th>3</th>\n",
       "      <td>58.5</td>\n",
       "      <td>16.5</td>\n",
       "    </tr>\n",
       "    <tr>\n",
       "      <th>4</th>\n",
       "      <td>58.4</td>\n",
       "      <td>17.9</td>\n",
       "    </tr>\n",
       "  </tbody>\n",
       "</table>\n",
       "</div>"
      ],
      "text/plain": [
       "   Newspaper  Sales\n",
       "0       69.2   22.1\n",
       "1       45.1   10.4\n",
       "2       69.3   12.0\n",
       "3       58.5   16.5\n",
       "4       58.4   17.9"
      ]
     },
     "execution_count": 335,
     "metadata": {},
     "output_type": "execute_result"
    }
   ],
   "source": [
    "newspaper_dataset.head()"
   ]
  },
  {
   "cell_type": "code",
   "execution_count": 336,
   "id": "305b5bb4",
   "metadata": {},
   "outputs": [],
   "source": [
    "x_tv = tv_dataset.TV\n",
    "y_tv = tv_dataset.Sales"
   ]
  },
  {
   "cell_type": "code",
   "execution_count": 337,
   "id": "3906fa31",
   "metadata": {},
   "outputs": [
    {
     "data": {
      "text/plain": [
       "(200,)"
      ]
     },
     "execution_count": 337,
     "metadata": {},
     "output_type": "execute_result"
    }
   ],
   "source": [
    "x_tv.shape"
   ]
  },
  {
   "cell_type": "code",
   "execution_count": 338,
   "id": "e1b9663e",
   "metadata": {},
   "outputs": [
    {
     "data": {
      "text/plain": [
       "(200,)"
      ]
     },
     "execution_count": 338,
     "metadata": {},
     "output_type": "execute_result"
    }
   ],
   "source": [
    "y_tv.shape"
   ]
  },
  {
   "cell_type": "code",
   "execution_count": 339,
   "id": "a7835ebe",
   "metadata": {},
   "outputs": [],
   "source": [
    "X_tv = tv_dataset.TV.values\n",
    "Y_tv = tv_dataset.Sales.values"
   ]
  },
  {
   "cell_type": "code",
   "execution_count": 340,
   "id": "2cf60a04",
   "metadata": {},
   "outputs": [],
   "source": [
    "x_tv=tv_dataset.TV.values.reshape(200,1)\n",
    "y_tv=tv_dataset.Sales.values.reshape(200,1)"
   ]
  },
  {
   "cell_type": "code",
   "execution_count": 341,
   "id": "5eac1b76",
   "metadata": {},
   "outputs": [
    {
     "name": "stdout",
     "output_type": "stream",
     "text": [
      "(200, 1)\n",
      "(200, 1)\n"
     ]
    }
   ],
   "source": [
    "print(x_tv.shape)\n",
    "print(y_tv.shape)"
   ]
  },
  {
   "cell_type": "code",
   "execution_count": 342,
   "id": "6825b6ea",
   "metadata": {},
   "outputs": [
    {
     "data": {
      "text/plain": [
       "array([[230.1,   1. ],\n",
       "       [ 44.5,   1. ],\n",
       "       [ 17.2,   1. ],\n",
       "       [151.5,   1. ],\n",
       "       [180.8,   1. ],\n",
       "       [  8.7,   1. ],\n",
       "       [ 57.5,   1. ],\n",
       "       [120.2,   1. ],\n",
       "       [  8.6,   1. ],\n",
       "       [199.8,   1. ],\n",
       "       [ 66.1,   1. ],\n",
       "       [214.7,   1. ],\n",
       "       [ 23.8,   1. ],\n",
       "       [ 97.5,   1. ],\n",
       "       [204.1,   1. ],\n",
       "       [195.4,   1. ],\n",
       "       [ 67.8,   1. ],\n",
       "       [281.4,   1. ],\n",
       "       [ 69.2,   1. ],\n",
       "       [147.3,   1. ],\n",
       "       [218.4,   1. ],\n",
       "       [237.4,   1. ],\n",
       "       [ 13.2,   1. ],\n",
       "       [228.3,   1. ],\n",
       "       [ 62.3,   1. ],\n",
       "       [262.9,   1. ],\n",
       "       [142.9,   1. ],\n",
       "       [240.1,   1. ],\n",
       "       [248.8,   1. ],\n",
       "       [ 70.6,   1. ],\n",
       "       [292.9,   1. ],\n",
       "       [112.9,   1. ],\n",
       "       [ 97.2,   1. ],\n",
       "       [265.6,   1. ],\n",
       "       [ 95.7,   1. ],\n",
       "       [290.7,   1. ],\n",
       "       [266.9,   1. ],\n",
       "       [ 74.7,   1. ],\n",
       "       [ 43.1,   1. ],\n",
       "       [228. ,   1. ],\n",
       "       [202.5,   1. ],\n",
       "       [177. ,   1. ],\n",
       "       [293.6,   1. ],\n",
       "       [206.9,   1. ],\n",
       "       [ 25.1,   1. ],\n",
       "       [175.1,   1. ],\n",
       "       [ 89.7,   1. ],\n",
       "       [239.9,   1. ],\n",
       "       [227.2,   1. ],\n",
       "       [ 66.9,   1. ],\n",
       "       [199.8,   1. ],\n",
       "       [100.4,   1. ],\n",
       "       [216.4,   1. ],\n",
       "       [182.6,   1. ],\n",
       "       [262.7,   1. ],\n",
       "       [198.9,   1. ],\n",
       "       [  7.3,   1. ],\n",
       "       [136.2,   1. ],\n",
       "       [210.8,   1. ],\n",
       "       [210.7,   1. ],\n",
       "       [ 53.5,   1. ],\n",
       "       [261.3,   1. ],\n",
       "       [239.3,   1. ],\n",
       "       [102.7,   1. ],\n",
       "       [131.1,   1. ],\n",
       "       [ 69. ,   1. ],\n",
       "       [ 31.5,   1. ],\n",
       "       [139.3,   1. ],\n",
       "       [237.4,   1. ],\n",
       "       [216.8,   1. ],\n",
       "       [199.1,   1. ],\n",
       "       [109.8,   1. ],\n",
       "       [ 26.8,   1. ],\n",
       "       [129.4,   1. ],\n",
       "       [213.4,   1. ],\n",
       "       [ 16.9,   1. ],\n",
       "       [ 27.5,   1. ],\n",
       "       [120.5,   1. ],\n",
       "       [  5.4,   1. ],\n",
       "       [116. ,   1. ],\n",
       "       [ 76.4,   1. ],\n",
       "       [239.8,   1. ],\n",
       "       [ 75.3,   1. ],\n",
       "       [ 68.4,   1. ],\n",
       "       [213.5,   1. ],\n",
       "       [193.2,   1. ],\n",
       "       [ 76.3,   1. ],\n",
       "       [110.7,   1. ],\n",
       "       [ 88.3,   1. ],\n",
       "       [109.8,   1. ],\n",
       "       [134.3,   1. ],\n",
       "       [ 28.6,   1. ],\n",
       "       [217.7,   1. ],\n",
       "       [250.9,   1. ],\n",
       "       [107.4,   1. ],\n",
       "       [163.3,   1. ],\n",
       "       [197.6,   1. ],\n",
       "       [184.9,   1. ],\n",
       "       [289.7,   1. ],\n",
       "       [135.2,   1. ],\n",
       "       [222.4,   1. ],\n",
       "       [296.4,   1. ],\n",
       "       [280.2,   1. ],\n",
       "       [187.9,   1. ],\n",
       "       [238.2,   1. ],\n",
       "       [137.9,   1. ],\n",
       "       [ 25. ,   1. ],\n",
       "       [ 90.4,   1. ],\n",
       "       [ 13.1,   1. ],\n",
       "       [255.4,   1. ],\n",
       "       [225.8,   1. ],\n",
       "       [241.7,   1. ],\n",
       "       [175.7,   1. ],\n",
       "       [209.6,   1. ],\n",
       "       [ 78.2,   1. ],\n",
       "       [ 75.1,   1. ],\n",
       "       [139.2,   1. ],\n",
       "       [ 76.4,   1. ],\n",
       "       [125.7,   1. ],\n",
       "       [ 19.4,   1. ],\n",
       "       [141.3,   1. ],\n",
       "       [ 18.8,   1. ],\n",
       "       [224. ,   1. ],\n",
       "       [123.1,   1. ],\n",
       "       [229.5,   1. ],\n",
       "       [ 87.2,   1. ],\n",
       "       [  7.8,   1. ],\n",
       "       [ 80.2,   1. ],\n",
       "       [220.3,   1. ],\n",
       "       [ 59.6,   1. ],\n",
       "       [  0.7,   1. ],\n",
       "       [265.2,   1. ],\n",
       "       [  8.4,   1. ],\n",
       "       [219.8,   1. ],\n",
       "       [ 36.9,   1. ],\n",
       "       [ 48.3,   1. ],\n",
       "       [ 25.6,   1. ],\n",
       "       [273.7,   1. ],\n",
       "       [ 43. ,   1. ],\n",
       "       [184.9,   1. ],\n",
       "       [ 73.4,   1. ],\n",
       "       [193.7,   1. ],\n",
       "       [220.5,   1. ],\n",
       "       [104.6,   1. ],\n",
       "       [ 96.2,   1. ],\n",
       "       [140.3,   1. ],\n",
       "       [240.1,   1. ],\n",
       "       [243.2,   1. ],\n",
       "       [ 38. ,   1. ],\n",
       "       [ 44.7,   1. ],\n",
       "       [280.7,   1. ],\n",
       "       [121. ,   1. ],\n",
       "       [197.6,   1. ],\n",
       "       [171.3,   1. ],\n",
       "       [187.8,   1. ],\n",
       "       [  4.1,   1. ],\n",
       "       [ 93.9,   1. ],\n",
       "       [149.8,   1. ],\n",
       "       [ 11.7,   1. ],\n",
       "       [131.7,   1. ],\n",
       "       [172.5,   1. ],\n",
       "       [ 85.7,   1. ],\n",
       "       [188.4,   1. ],\n",
       "       [163.5,   1. ],\n",
       "       [117.2,   1. ],\n",
       "       [234.5,   1. ],\n",
       "       [ 17.9,   1. ],\n",
       "       [206.8,   1. ],\n",
       "       [215.4,   1. ],\n",
       "       [284.3,   1. ],\n",
       "       [ 50. ,   1. ],\n",
       "       [164.5,   1. ],\n",
       "       [ 19.6,   1. ],\n",
       "       [168.4,   1. ],\n",
       "       [222.4,   1. ],\n",
       "       [276.9,   1. ],\n",
       "       [248.4,   1. ],\n",
       "       [170.2,   1. ],\n",
       "       [276.7,   1. ],\n",
       "       [165.6,   1. ],\n",
       "       [156.6,   1. ],\n",
       "       [218.5,   1. ],\n",
       "       [ 56.2,   1. ],\n",
       "       [287.6,   1. ],\n",
       "       [253.8,   1. ],\n",
       "       [205. ,   1. ],\n",
       "       [139.5,   1. ],\n",
       "       [191.1,   1. ],\n",
       "       [286. ,   1. ],\n",
       "       [ 18.7,   1. ],\n",
       "       [ 39.5,   1. ],\n",
       "       [ 75.5,   1. ],\n",
       "       [ 17.2,   1. ],\n",
       "       [166.8,   1. ],\n",
       "       [149.7,   1. ],\n",
       "       [ 38.2,   1. ],\n",
       "       [ 94.2,   1. ],\n",
       "       [177. ,   1. ],\n",
       "       [283.6,   1. ],\n",
       "       [232.1,   1. ]])"
      ]
     },
     "execution_count": 342,
     "metadata": {},
     "output_type": "execute_result"
    }
   ],
   "source": [
    "X_tv=np.hstack((x_tv,(np.ones(x_tv.shape))))\n",
    "X_tv"
   ]
  },
  {
   "cell_type": "code",
   "execution_count": 343,
   "id": "fe5236a6",
   "metadata": {},
   "outputs": [
    {
     "data": {
      "text/plain": [
       "(200, 2)"
      ]
     },
     "execution_count": 343,
     "metadata": {},
     "output_type": "execute_result"
    }
   ],
   "source": [
    "X_tv.shape"
   ]
  },
  {
   "cell_type": "code",
   "execution_count": null,
   "id": "73dbdc91",
   "metadata": {},
   "outputs": [],
   "source": []
  },
  {
   "cell_type": "code",
   "execution_count": 344,
   "id": "5c2598e3",
   "metadata": {},
   "outputs": [
    {
     "name": "stdout",
     "output_type": "stream",
     "text": [
      "(160, 1)\n",
      "(40, 1)\n",
      "(160, 1)\n",
      "(40, 1)\n"
     ]
    }
   ],
   "source": [
    "x_tv_train, x_tv_test, y_tv_train, y_tv_test = train_test_split(x_tv, y_tv, test_size=0.2, random_state=42)\n",
    "print(x_tv_train.shape)\n",
    "print(x_tv_test.shape)\n",
    "print(y_tv_train.shape)\n",
    "print(y_tv_test.shape)"
   ]
  },
  {
   "cell_type": "code",
   "execution_count": 345,
   "id": "e5225802",
   "metadata": {},
   "outputs": [
    {
     "name": "stdout",
     "output_type": "stream",
     "text": [
      "(160, 2)\n",
      "(40, 2)\n",
      "(160, 1)\n",
      "(40, 1)\n"
     ]
    }
   ],
   "source": [
    "X_tv_train=np.hstack((x_tv_train,(np.ones(x_tv_train.shape))))\n",
    "X_tv_test=np.hstack((x_tv_test,(np.ones(x_tv_test.shape))))\n",
    "print(X_tv_train.shape)\n",
    "print(X_tv_test.shape)\n",
    "print(y_tv_train.shape)\n",
    "print(y_tv_test.shape)"
   ]
  },
  {
   "cell_type": "code",
   "execution_count": 346,
   "id": "1fcdca7a",
   "metadata": {},
   "outputs": [
    {
     "name": "stdout",
     "output_type": "stream",
     "text": [
      "Theta: [[1.76405235]\n",
      " [0.40015721]]\n"
     ]
    }
   ],
   "source": [
    "np.random.seed(0) # pour produire toujours le meme vecteur theta aléatoire\n",
    "theta=np.random.randn(2,1)\n",
    "print('Theta:',theta)"
   ]
  },
  {
   "cell_type": "code",
   "execution_count": 347,
   "id": "7c18ed6e",
   "metadata": {},
   "outputs": [],
   "source": [
    "def model(X, theta):\n",
    "    return X.dot(theta)"
   ]
  },
  {
   "cell_type": "code",
   "execution_count": 348,
   "id": "65583983",
   "metadata": {},
   "outputs": [
    {
     "data": {
      "image/png": "[encoded data removed]",
      "text/plain": [
       "<Figure size 640x480 with 1 Axes>"
      ]
     },
     "metadata": {},
     "output_type": "display_data"
    }
   ],
   "source": [
    "plt.plot(x_tv_train,y_tv_train,'o',label='dataset entraînement')\n",
    "plt.plot(x_tv_train, model(X_tv_train, theta), c='r',label='modèle initial')\n",
    "plt.xlabel('TV')\n",
    "plt.ylabel('Sales')\n",
    "plt.legend()\n",
    "plt.show()"
   ]
  },
  {
   "cell_type": "code",
   "execution_count": 349,
   "id": "92ce931e",
   "metadata": {},
   "outputs": [],
   "source": [
    "def cost_function(X, y, theta):\n",
    "    m = len(y)\n",
    "    return 1/(2*m) * np.sum((model(X, theta) - y)**2)"
   ]
  },
  {
   "cell_type": "code",
   "execution_count": 350,
   "id": "2dceffe2",
   "metadata": {},
   "outputs": [
    {
     "data": {
      "text/plain": [
       "41517.355521861"
      ]
     },
     "execution_count": 350,
     "metadata": {},
     "output_type": "execute_result"
    }
   ],
   "source": [
    "cost_function(X_tv_train, y_tv_train, theta)"
   ]
  },
  {
   "cell_type": "code",
   "execution_count": 351,
   "id": "71893f53",
   "metadata": {},
   "outputs": [],
   "source": [
    "def grad(X, y, theta):\n",
    "    m = len(y)\n",
    "    return 1/m * X.T.dot(model(X, theta) - y)"
   ]
  },
  {
   "cell_type": "code",
   "execution_count": 352,
   "id": "4bb677ad",
   "metadata": {},
   "outputs": [],
   "source": [
    "def gradient_descent(X, y, theta, learning_rate, n_iterations):\n",
    "    \n",
    "    cost_history = np.zeros(n_iterations) # création d'un tableau de stockage pour enregistrer l'évolution du Cout du modele\n",
    "    \n",
    "    for i in range(0, n_iterations):\n",
    "        theta = theta - learning_rate * grad(X, y, theta) # mise a jour du parametre theta (formule du gradient descent)\n",
    "        cost_history[i] = cost_function(X, y, theta) # on enregistre la valeur du Cout au tour i dans cost_history[i]\n",
    "        \n",
    "    return theta, cost_history"
   ]
  },
  {
   "cell_type": "code",
   "execution_count": 353,
   "id": "46c314b3",
   "metadata": {},
   "outputs": [],
   "source": [
    "n_iterations = 3000000\n",
    "learning_rate = 0.00001\n",
    "\n",
    "\n",
    "theta_final, cost_history = gradient_descent(X_tv_train, y_tv_train, theta, learning_rate, n_iterations)"
   ]
  },
  {
   "cell_type": "code",
   "execution_count": 354,
   "id": "f9370583",
   "metadata": {},
   "outputs": [
    {
     "data": {
      "text/plain": [
       "array([2.05872454e+04, 1.02105810e+04, 5.06607083e+03, ...,\n",
       "       2.49922421e+00, 2.49922421e+00, 2.49922421e+00])"
      ]
     },
     "execution_count": 354,
     "metadata": {},
     "output_type": "execute_result"
    }
   ],
   "source": [
    "cost_history"
   ]
  },
  {
   "cell_type": "code",
   "execution_count": 355,
   "id": "29468b21",
   "metadata": {},
   "outputs": [
    {
     "data": {
      "text/plain": [
       "array([[0.05550848],\n",
       "       [7.0020721 ]])"
      ]
     },
     "execution_count": 355,
     "metadata": {},
     "output_type": "execute_result"
    }
   ],
   "source": [
    "theta_final"
   ]
  },
  {
   "cell_type": "code",
   "execution_count": null,
   "id": "92a56040",
   "metadata": {},
   "outputs": [],
   "source": []
  },
  {
   "cell_type": "code",
   "execution_count": 356,
   "id": "92c76325",
   "metadata": {},
   "outputs": [
    {
     "data": {
      "text/plain": [
       "array([0.05550848])"
      ]
     },
     "execution_count": 356,
     "metadata": {},
     "output_type": "execute_result"
    }
   ],
   "source": [
    "theta_final[0]"
   ]
  },
  {
   "cell_type": "code",
   "execution_count": 357,
   "id": "fccd7fcd",
   "metadata": {},
   "outputs": [
    {
     "data": {
      "image/png": "[encoded data removed]",
      "text/plain": [
       "<Figure size 640x480 with 1 Axes>"
      ]
     },
     "metadata": {},
     "output_type": "display_data"
    }
   ],
   "source": [
    "plt.plot(x_tv_train,y_tv_train,'o',label='dataset entraînement')\n",
    "plt.plot(x_tv_train, model(X_tv_train, theta_final), c='r',label='modèle final')\n",
    "plt.xlabel('TV')\n",
    "plt.ylabel('Sales')\n",
    "plt.legend()\n",
    "plt.show()"
   ]
  },
  {
   "cell_type": "code",
   "execution_count": 358,
   "id": "ed432e86",
   "metadata": {},
   "outputs": [
    {
     "data": {
      "image/png": "[encoded data removed]",
      "text/plain": [
       "<Figure size 640x480 with 1 Axes>"
      ]
     },
     "metadata": {},
     "output_type": "display_data"
    }
   ],
   "source": [
    "# création d'un vecteur prédictions qui contient les prédictions de notre modele final\n",
    "predictions = model(X_tv_test, theta_final)\n",
    "\n",
    "# Affichage des résultats de prédictions (en rouge) par rapport a notre Dataset (en bleu)\n",
    "plt.plot(x_tv_test,y_tv_test,'o',label='dataset test')\n",
    "plt.plot(x_tv_test,predictions , c='r',label='prédictions')\n",
    "plt.xlabel('TV')\n",
    "plt.ylabel('Sales')\n",
    "plt.legend()\n",
    "plt.show()"
   ]
  },
  {
   "cell_type": "code",
   "execution_count": 359,
   "id": "ecd65d53",
   "metadata": {},
   "outputs": [
    {
     "name": "stdout",
     "output_type": "stream",
     "text": [
      "[9.53880963]\n"
     ]
    }
   ],
   "source": [
    "# Test: # prédire quelle serait les ventes pour des depense de 45.7 (TV)\n",
    "X_45_7= np.array([45.7,1])\n",
    "pred_y_45_7=model(X_45_7, theta_final) \n",
    "print(pred_y_45_7)"
   ]
  },
  {
   "cell_type": "code",
   "execution_count": 360,
   "id": "6e834192",
   "metadata": {},
   "outputs": [
    {
     "data": {
      "image/png": "[encoded data removed]",
      "text/plain": [
       "<Figure size 640x480 with 1 Axes>"
      ]
     },
     "metadata": {},
     "output_type": "display_data"
    }
   ],
   "source": [
    "plt.plot(range(n_iterations), cost_history)\n",
    "plt.show()"
   ]
  },
  {
   "cell_type": "code",
   "execution_count": 361,
   "id": "66ecaae4",
   "metadata": {},
   "outputs": [],
   "source": [
    "def coef_determination(y, pred):\n",
    "    u = ((y - pred)**2).sum()\n",
    "    v = ((y - y.mean())**2).sum()\n",
    "    return 1 - u/v"
   ]
  },
  {
   "cell_type": "code",
   "execution_count": 425,
   "id": "de54d295",
   "metadata": {},
   "outputs": [
    {
     "name": "stdout",
     "output_type": "stream",
     "text": [
      "0.8025744457911833\n",
      "0.8134863779301086\n"
     ]
    }
   ],
   "source": [
    "coef_test_tv = coef_determination(y_tv_test, predictions) # predictions=model(X_test,theta_final)\n",
    "print(coef_test_tv)\n",
    "coef_train_tv = coef_determination(y_tv_train, model(X_tv_train, theta_final))\n",
    "print(coef_train_tv)"
   ]
  },
  {
   "cell_type": "markdown",
   "id": "d889d563",
   "metadata": {},
   "source": [
    "## Radio"
   ]
  },
  {
   "cell_type": "code",
   "execution_count": 364,
   "id": "89acd775",
   "metadata": {},
   "outputs": [],
   "source": [
    "x_radio = radio_dataset.Radio\n",
    "y_radio = radio_dataset.Sales"
   ]
  },
  {
   "cell_type": "code",
   "execution_count": 365,
   "id": "3ad23f16",
   "metadata": {},
   "outputs": [
    {
     "name": "stdout",
     "output_type": "stream",
     "text": [
      "(200,)\n",
      "(200,)\n"
     ]
    }
   ],
   "source": [
    "print(x_radio.shape)\n",
    "print(y_radio.shape)"
   ]
  },
  {
   "cell_type": "code",
   "execution_count": 366,
   "id": "5cfa1714",
   "metadata": {},
   "outputs": [],
   "source": [
    "X_radio = radio_dataset.Radio.values\n",
    "Y_radio = radio_dataset.Sales.values"
   ]
  },
  {
   "cell_type": "code",
   "execution_count": 385,
   "id": "02db6c58",
   "metadata": {},
   "outputs": [
    {
     "name": "stdout",
     "output_type": "stream",
     "text": [
      "(200, 1)\n",
      "(200, 1)\n"
     ]
    }
   ],
   "source": [
    "x_radio=radio_dataset.Radio.values.reshape(200,1)\n",
    "y_radio=radio_dataset.Sales.values.reshape(200,1)\n",
    "print(x_radio.shape)\n",
    "print(y_radio.shape)"
   ]
  },
  {
   "cell_type": "code",
   "execution_count": 386,
   "id": "87e3b67c",
   "metadata": {},
   "outputs": [
    {
     "name": "stdout",
     "output_type": "stream",
     "text": [
      "[[37.8  1. ]\n",
      " [39.3  1. ]\n",
      " [45.9  1. ]\n",
      " [41.3  1. ]\n",
      " [10.8  1. ]\n",
      " [48.9  1. ]\n",
      " [32.8  1. ]\n",
      " [19.6  1. ]\n",
      " [ 2.1  1. ]\n",
      " [ 2.6  1. ]\n",
      " [ 5.8  1. ]\n",
      " [24.   1. ]\n",
      " [35.1  1. ]\n",
      " [ 7.6  1. ]\n",
      " [32.9  1. ]\n",
      " [47.7  1. ]\n",
      " [36.6  1. ]\n",
      " [39.6  1. ]\n",
      " [20.5  1. ]\n",
      " [23.9  1. ]\n",
      " [27.7  1. ]\n",
      " [ 5.1  1. ]\n",
      " [15.9  1. ]\n",
      " [16.9  1. ]\n",
      " [12.6  1. ]\n",
      " [ 3.5  1. ]\n",
      " [29.3  1. ]\n",
      " [16.7  1. ]\n",
      " [27.1  1. ]\n",
      " [16.   1. ]\n",
      " [28.3  1. ]\n",
      " [17.4  1. ]\n",
      " [ 1.5  1. ]\n",
      " [20.   1. ]\n",
      " [ 1.4  1. ]\n",
      " [ 4.1  1. ]\n",
      " [43.8  1. ]\n",
      " [49.4  1. ]\n",
      " [26.7  1. ]\n",
      " [37.7  1. ]\n",
      " [22.3  1. ]\n",
      " [33.4  1. ]\n",
      " [27.7  1. ]\n",
      " [ 8.4  1. ]\n",
      " [25.7  1. ]\n",
      " [22.5  1. ]\n",
      " [ 9.9  1. ]\n",
      " [41.5  1. ]\n",
      " [15.8  1. ]\n",
      " [11.7  1. ]\n",
      " [ 3.1  1. ]\n",
      " [ 9.6  1. ]\n",
      " [41.7  1. ]\n",
      " [46.2  1. ]\n",
      " [28.8  1. ]\n",
      " [49.4  1. ]\n",
      " [28.1  1. ]\n",
      " [19.2  1. ]\n",
      " [49.6  1. ]\n",
      " [29.5  1. ]\n",
      " [ 2.   1. ]\n",
      " [42.7  1. ]\n",
      " [15.5  1. ]\n",
      " [29.6  1. ]\n",
      " [42.8  1. ]\n",
      " [ 9.3  1. ]\n",
      " [24.6  1. ]\n",
      " [14.5  1. ]\n",
      " [27.5  1. ]\n",
      " [43.9  1. ]\n",
      " [30.6  1. ]\n",
      " [14.3  1. ]\n",
      " [33.   1. ]\n",
      " [ 5.7  1. ]\n",
      " [24.6  1. ]\n",
      " [43.7  1. ]\n",
      " [ 1.6  1. ]\n",
      " [28.5  1. ]\n",
      " [29.9  1. ]\n",
      " [ 7.7  1. ]\n",
      " [26.7  1. ]\n",
      " [ 4.1  1. ]\n",
      " [20.3  1. ]\n",
      " [44.5  1. ]\n",
      " [43.   1. ]\n",
      " [18.4  1. ]\n",
      " [27.5  1. ]\n",
      " [40.6  1. ]\n",
      " [25.5  1. ]\n",
      " [47.8  1. ]\n",
      " [ 4.9  1. ]\n",
      " [ 1.5  1. ]\n",
      " [33.5  1. ]\n",
      " [36.5  1. ]\n",
      " [14.   1. ]\n",
      " [31.6  1. ]\n",
      " [ 3.5  1. ]\n",
      " [21.   1. ]\n",
      " [42.3  1. ]\n",
      " [41.7  1. ]\n",
      " [ 4.3  1. ]\n",
      " [36.3  1. ]\n",
      " [10.1  1. ]\n",
      " [17.2  1. ]\n",
      " [34.3  1. ]\n",
      " [46.4  1. ]\n",
      " [11.   1. ]\n",
      " [ 0.3  1. ]\n",
      " [ 0.4  1. ]\n",
      " [26.9  1. ]\n",
      " [ 8.2  1. ]\n",
      " [38.   1. ]\n",
      " [15.4  1. ]\n",
      " [20.6  1. ]\n",
      " [46.8  1. ]\n",
      " [35.   1. ]\n",
      " [14.3  1. ]\n",
      " [ 0.8  1. ]\n",
      " [36.9  1. ]\n",
      " [16.   1. ]\n",
      " [26.8  1. ]\n",
      " [21.7  1. ]\n",
      " [ 2.4  1. ]\n",
      " [34.6  1. ]\n",
      " [32.3  1. ]\n",
      " [11.8  1. ]\n",
      " [38.9  1. ]\n",
      " [ 0.   1. ]\n",
      " [49.   1. ]\n",
      " [12.   1. ]\n",
      " [39.6  1. ]\n",
      " [ 2.9  1. ]\n",
      " [27.2  1. ]\n",
      " [33.5  1. ]\n",
      " [38.6  1. ]\n",
      " [47.   1. ]\n",
      " [39.   1. ]\n",
      " [28.9  1. ]\n",
      " [25.9  1. ]\n",
      " [43.9  1. ]\n",
      " [17.   1. ]\n",
      " [35.4  1. ]\n",
      " [33.2  1. ]\n",
      " [ 5.7  1. ]\n",
      " [14.8  1. ]\n",
      " [ 1.9  1. ]\n",
      " [ 7.3  1. ]\n",
      " [49.   1. ]\n",
      " [40.3  1. ]\n",
      " [25.8  1. ]\n",
      " [13.9  1. ]\n",
      " [ 8.4  1. ]\n",
      " [23.3  1. ]\n",
      " [39.7  1. ]\n",
      " [21.1  1. ]\n",
      " [11.6  1. ]\n",
      " [43.5  1. ]\n",
      " [ 1.3  1. ]\n",
      " [36.9  1. ]\n",
      " [18.4  1. ]\n",
      " [18.1  1. ]\n",
      " [35.8  1. ]\n",
      " [18.1  1. ]\n",
      " [36.8  1. ]\n",
      " [14.7  1. ]\n",
      " [ 3.4  1. ]\n",
      " [37.6  1. ]\n",
      " [ 5.2  1. ]\n",
      " [23.6  1. ]\n",
      " [10.6  1. ]\n",
      " [11.6  1. ]\n",
      " [20.9  1. ]\n",
      " [20.1  1. ]\n",
      " [ 7.1  1. ]\n",
      " [ 3.4  1. ]\n",
      " [48.9  1. ]\n",
      " [30.2  1. ]\n",
      " [ 7.8  1. ]\n",
      " [ 2.3  1. ]\n",
      " [10.   1. ]\n",
      " [ 2.6  1. ]\n",
      " [ 5.4  1. ]\n",
      " [ 5.7  1. ]\n",
      " [43.   1. ]\n",
      " [21.3  1. ]\n",
      " [45.1  1. ]\n",
      " [ 2.1  1. ]\n",
      " [28.7  1. ]\n",
      " [13.9  1. ]\n",
      " [12.1  1. ]\n",
      " [41.1  1. ]\n",
      " [10.8  1. ]\n",
      " [ 4.1  1. ]\n",
      " [42.   1. ]\n",
      " [35.6  1. ]\n",
      " [ 3.7  1. ]\n",
      " [ 4.9  1. ]\n",
      " [ 9.3  1. ]\n",
      " [42.   1. ]\n",
      " [ 8.6  1. ]]\n",
      "(200, 2)\n"
     ]
    }
   ],
   "source": [
    "X_radio=np.hstack((x_radio,(np.ones(x_radio.shape))))\n",
    "print(X_radio)\n",
    "print(X_radio.shape)"
   ]
  },
  {
   "cell_type": "code",
   "execution_count": 387,
   "id": "10000b8d",
   "metadata": {},
   "outputs": [
    {
     "name": "stdout",
     "output_type": "stream",
     "text": [
      "(160, 1)\n",
      "(40, 1)\n",
      "(160, 1)\n",
      "(40, 1)\n"
     ]
    }
   ],
   "source": [
    "x_radio_train, x_radio_test, y_radio_train, y_radio_test = train_test_split(x_radio, y_radio, test_size=0.2, random_state=42)\n",
    "print(x_radio_train.shape)\n",
    "print(x_radio_test.shape)\n",
    "print(y_radio_train.shape)\n",
    "print(y_radio_test.shape)"
   ]
  },
  {
   "cell_type": "code",
   "execution_count": 388,
   "id": "c1df825b",
   "metadata": {},
   "outputs": [
    {
     "name": "stdout",
     "output_type": "stream",
     "text": [
      "(160, 2)\n",
      "(40, 2)\n",
      "(160, 1)\n",
      "(40, 1)\n"
     ]
    }
   ],
   "source": [
    "X_radio_train=np.hstack((x_radio_train,(np.ones(x_radio_train.shape))))\n",
    "X_radio_test=np.hstack((x_radio_test,(np.ones(x_radio_test.shape))))\n",
    "print(X_radio_train.shape)\n",
    "print(X_radio_test.shape)\n",
    "print(y_radio_train.shape)\n",
    "print(y_radio_test.shape)"
   ]
  },
  {
   "cell_type": "code",
   "execution_count": 389,
   "id": "35893831",
   "metadata": {},
   "outputs": [
    {
     "data": {
      "image/png": "[encoded data removed]",
      "text/plain": [
       "<Figure size 640x480 with 1 Axes>"
      ]
     },
     "metadata": {},
     "output_type": "display_data"
    }
   ],
   "source": [
    "plt.plot(x_radio_train,y_radio_train,'o',label='dataset entraînement')\n",
    "plt.plot(x_radio_train, model(X_radio_train, theta), c='r',label='modèle initial')\n",
    "plt.xlabel('Radio')\n",
    "plt.ylabel('Sales')\n",
    "plt.legend()\n",
    "plt.show()"
   ]
  },
  {
   "cell_type": "code",
   "execution_count": 390,
   "id": "6b7a7318",
   "metadata": {},
   "outputs": [
    {
     "data": {
      "text/plain": [
       "629.3835846941762"
      ]
     },
     "execution_count": 390,
     "metadata": {},
     "output_type": "execute_result"
    }
   ],
   "source": [
    "cost_function(X_radio_train, y_radio_train, theta)"
   ]
  },
  {
   "cell_type": "code",
   "execution_count": 391,
   "id": "68e16232",
   "metadata": {},
   "outputs": [],
   "source": [
    "n_iterations = 3000000\n",
    "learning_rate = 0.00001\n",
    "\n",
    "\n",
    "theta_final_radio, cost_history_radio = gradient_descent(X_radio_train, y_radio_train, theta, learning_rate, n_iterations)"
   ]
  },
  {
   "cell_type": "code",
   "execution_count": 392,
   "id": "33e89f34",
   "metadata": {},
   "outputs": [
    {
     "data": {
      "image/png": "[encoded data removed]",
      "text/plain": [
       "<Figure size 640x480 with 1 Axes>"
      ]
     },
     "metadata": {},
     "output_type": "display_data"
    }
   ],
   "source": [
    "plt.plot(x_radio_train,y_radio_train,'o',label='dataset entraînement')\n",
    "plt.plot(x_radio_train, model(X_radio_train, theta_final_radio), c='r',label='modèle final')\n",
    "plt.xlabel('Radio')\n",
    "plt.ylabel('Sales')\n",
    "plt.legend()\n",
    "plt.show()"
   ]
  },
  {
   "cell_type": "code",
   "execution_count": 393,
   "id": "9c35ec2b",
   "metadata": {},
   "outputs": [
    {
     "data": {
      "image/png": "[encoded data removed]",
      "text/plain": [
       "<Figure size 640x480 with 1 Axes>"
      ]
     },
     "metadata": {},
     "output_type": "display_data"
    }
   ],
   "source": [
    "# création d'un vecteur prédictions qui contient les prédictions de notre modele final\n",
    "predictions_radio = model(X_radio_test, theta_final_radio)\n",
    "\n",
    "# Affichage des résultats de prédictions (en rouge) par rapport a notre Dataset (en bleu)\n",
    "plt.plot(x_radio_test,y_radio_test,'o',label='dataset test')\n",
    "plt.plot(x_radio_test,predictions_radio , c='r',label='prédictions')\n",
    "plt.xlabel('Radio')\n",
    "plt.ylabel('Sales')\n",
    "plt.legend()\n",
    "plt.show()"
   ]
  },
  {
   "cell_type": "code",
   "execution_count": 394,
   "id": "595bf790",
   "metadata": {},
   "outputs": [
    {
     "name": "stdout",
     "output_type": "stream",
     "text": [
      "[18.07032677]\n"
     ]
    }
   ],
   "source": [
    "# Test: # prédire quelle serait les ventes pour des depense de 45.7 (TV)\n",
    "X_45_7= np.array([45.7,1])\n",
    "pred_y_45_7=model(X_45_7, theta_final_radio) \n",
    "print(pred_y_45_7)"
   ]
  },
  {
   "cell_type": "code",
   "execution_count": 395,
   "id": "688f84fe",
   "metadata": {},
   "outputs": [
    {
     "data": {
      "image/png": "[encoded data removed]",
      "text/plain": [
       "<Figure size 640x480 with 1 Axes>"
      ]
     },
     "metadata": {},
     "output_type": "display_data"
    }
   ],
   "source": [
    "plt.plot(range(n_iterations), cost_history_radio)\n",
    "plt.show()"
   ]
  },
  {
   "cell_type": "code",
   "execution_count": 426,
   "id": "ba2851aa",
   "metadata": {},
   "outputs": [
    {
     "name": "stdout",
     "output_type": "stream",
     "text": [
      "0.10702965412967036\n",
      "0.11704492652440235\n"
     ]
    }
   ],
   "source": [
    "coef_radio_test = coef_determination(y_radio_test, predictions_radio)\n",
    "print(coef_radio_test)\n",
    "coef_radio_train = coef_determination(y_radio_train, model(X_radio_train, theta_final_radio))\n",
    "print(coef_radio_train)"
   ]
  },
  {
   "cell_type": "markdown",
   "id": "20be77bc",
   "metadata": {},
   "source": [
    "## Newspaper"
   ]
  },
  {
   "cell_type": "code",
   "execution_count": 401,
   "id": "ca16f719",
   "metadata": {},
   "outputs": [
    {
     "name": "stdout",
     "output_type": "stream",
     "text": [
      "(200,)\n",
      "(200,)\n"
     ]
    }
   ],
   "source": [
    "x_np = newspaper_dataset.Newspaper\n",
    "y_np = newspaper_dataset.Sales\n",
    "print(x_np.shape)\n",
    "print(y_np.shape)"
   ]
  },
  {
   "cell_type": "code",
   "execution_count": 404,
   "id": "013accee",
   "metadata": {},
   "outputs": [],
   "source": [
    "X_np = newspaper_dataset.Newspaper.values\n",
    "Y_np = newspaper_dataset.Sales.values"
   ]
  },
  {
   "cell_type": "code",
   "execution_count": 405,
   "id": "055be55d",
   "metadata": {},
   "outputs": [
    {
     "name": "stdout",
     "output_type": "stream",
     "text": [
      "(200, 1)\n",
      "(200, 1)\n"
     ]
    }
   ],
   "source": [
    "x_np=newspaper_dataset.Newspaper.values.reshape(200,1)\n",
    "y_np=newspaper_dataset.Sales.values.reshape(200,1)\n",
    "print(x_np.shape)\n",
    "print(y_np.shape)"
   ]
  },
  {
   "cell_type": "code",
   "execution_count": 406,
   "id": "249560f8",
   "metadata": {},
   "outputs": [
    {
     "name": "stdout",
     "output_type": "stream",
     "text": [
      "[[ 69.2   1. ]\n",
      " [ 45.1   1. ]\n",
      " [ 69.3   1. ]\n",
      " [ 58.5   1. ]\n",
      " [ 58.4   1. ]\n",
      " [ 75.    1. ]\n",
      " [ 23.5   1. ]\n",
      " [ 11.6   1. ]\n",
      " [  1.    1. ]\n",
      " [ 21.2   1. ]\n",
      " [ 24.2   1. ]\n",
      " [  4.    1. ]\n",
      " [ 65.9   1. ]\n",
      " [  7.2   1. ]\n",
      " [ 46.    1. ]\n",
      " [ 52.9   1. ]\n",
      " [114.    1. ]\n",
      " [ 55.8   1. ]\n",
      " [ 18.3   1. ]\n",
      " [ 19.1   1. ]\n",
      " [ 53.4   1. ]\n",
      " [ 23.5   1. ]\n",
      " [ 49.6   1. ]\n",
      " [ 26.2   1. ]\n",
      " [ 18.3   1. ]\n",
      " [ 19.5   1. ]\n",
      " [ 12.6   1. ]\n",
      " [ 22.9   1. ]\n",
      " [ 22.9   1. ]\n",
      " [ 40.8   1. ]\n",
      " [ 43.2   1. ]\n",
      " [ 38.6   1. ]\n",
      " [ 30.    1. ]\n",
      " [  0.3   1. ]\n",
      " [  7.4   1. ]\n",
      " [  8.5   1. ]\n",
      " [  5.    1. ]\n",
      " [ 45.7   1. ]\n",
      " [ 35.1   1. ]\n",
      " [ 32.    1. ]\n",
      " [ 31.6   1. ]\n",
      " [ 38.7   1. ]\n",
      " [  1.8   1. ]\n",
      " [ 26.4   1. ]\n",
      " [ 43.3   1. ]\n",
      " [ 31.5   1. ]\n",
      " [ 35.7   1. ]\n",
      " [ 18.5   1. ]\n",
      " [ 49.9   1. ]\n",
      " [ 36.8   1. ]\n",
      " [ 34.6   1. ]\n",
      " [  3.6   1. ]\n",
      " [ 39.6   1. ]\n",
      " [ 58.7   1. ]\n",
      " [ 15.9   1. ]\n",
      " [ 60.    1. ]\n",
      " [ 41.4   1. ]\n",
      " [ 16.6   1. ]\n",
      " [ 37.7   1. ]\n",
      " [  9.3   1. ]\n",
      " [ 21.4   1. ]\n",
      " [ 54.7   1. ]\n",
      " [ 27.3   1. ]\n",
      " [  8.4   1. ]\n",
      " [ 28.9   1. ]\n",
      " [  0.9   1. ]\n",
      " [  2.2   1. ]\n",
      " [ 10.2   1. ]\n",
      " [ 11.    1. ]\n",
      " [ 27.2   1. ]\n",
      " [ 38.7   1. ]\n",
      " [ 31.7   1. ]\n",
      " [ 19.3   1. ]\n",
      " [ 31.3   1. ]\n",
      " [ 13.1   1. ]\n",
      " [ 89.4   1. ]\n",
      " [ 20.7   1. ]\n",
      " [ 14.2   1. ]\n",
      " [  9.4   1. ]\n",
      " [ 23.1   1. ]\n",
      " [ 22.3   1. ]\n",
      " [ 36.9   1. ]\n",
      " [ 32.5   1. ]\n",
      " [ 35.6   1. ]\n",
      " [ 33.8   1. ]\n",
      " [ 65.7   1. ]\n",
      " [ 16.    1. ]\n",
      " [ 63.2   1. ]\n",
      " [ 73.4   1. ]\n",
      " [ 51.4   1. ]\n",
      " [  9.3   1. ]\n",
      " [ 33.    1. ]\n",
      " [ 59.    1. ]\n",
      " [ 72.3   1. ]\n",
      " [ 10.9   1. ]\n",
      " [ 52.9   1. ]\n",
      " [  5.9   1. ]\n",
      " [ 22.    1. ]\n",
      " [ 51.2   1. ]\n",
      " [ 45.9   1. ]\n",
      " [ 49.8   1. ]\n",
      " [100.9   1. ]\n",
      " [ 21.4   1. ]\n",
      " [ 17.9   1. ]\n",
      " [  5.3   1. ]\n",
      " [ 59.    1. ]\n",
      " [ 29.7   1. ]\n",
      " [ 23.2   1. ]\n",
      " [ 25.6   1. ]\n",
      " [  5.5   1. ]\n",
      " [ 56.5   1. ]\n",
      " [ 23.2   1. ]\n",
      " [  2.4   1. ]\n",
      " [ 10.7   1. ]\n",
      " [ 34.5   1. ]\n",
      " [ 52.7   1. ]\n",
      " [ 25.6   1. ]\n",
      " [ 14.8   1. ]\n",
      " [ 79.2   1. ]\n",
      " [ 22.3   1. ]\n",
      " [ 46.2   1. ]\n",
      " [ 50.4   1. ]\n",
      " [ 15.6   1. ]\n",
      " [ 12.4   1. ]\n",
      " [ 74.2   1. ]\n",
      " [ 25.9   1. ]\n",
      " [ 50.6   1. ]\n",
      " [  9.2   1. ]\n",
      " [  3.2   1. ]\n",
      " [ 43.1   1. ]\n",
      " [  8.7   1. ]\n",
      " [ 43.    1. ]\n",
      " [  2.1   1. ]\n",
      " [ 45.1   1. ]\n",
      " [ 65.6   1. ]\n",
      " [  8.5   1. ]\n",
      " [  9.3   1. ]\n",
      " [ 59.7   1. ]\n",
      " [ 20.5   1. ]\n",
      " [  1.7   1. ]\n",
      " [ 12.9   1. ]\n",
      " [ 75.6   1. ]\n",
      " [ 37.9   1. ]\n",
      " [ 34.4   1. ]\n",
      " [ 38.9   1. ]\n",
      " [  9.    1. ]\n",
      " [  8.7   1. ]\n",
      " [ 44.3   1. ]\n",
      " [ 11.9   1. ]\n",
      " [ 20.6   1. ]\n",
      " [ 37.    1. ]\n",
      " [ 48.7   1. ]\n",
      " [ 14.2   1. ]\n",
      " [ 37.7   1. ]\n",
      " [  9.5   1. ]\n",
      " [  5.7   1. ]\n",
      " [ 50.5   1. ]\n",
      " [ 24.3   1. ]\n",
      " [ 45.2   1. ]\n",
      " [ 34.6   1. ]\n",
      " [ 30.7   1. ]\n",
      " [ 49.3   1. ]\n",
      " [ 25.6   1. ]\n",
      " [  7.4   1. ]\n",
      " [  5.4   1. ]\n",
      " [ 84.8   1. ]\n",
      " [ 21.6   1. ]\n",
      " [ 19.4   1. ]\n",
      " [ 57.6   1. ]\n",
      " [  6.4   1. ]\n",
      " [ 18.4   1. ]\n",
      " [ 47.4   1. ]\n",
      " [ 17.    1. ]\n",
      " [ 12.8   1. ]\n",
      " [ 13.1   1. ]\n",
      " [ 41.8   1. ]\n",
      " [ 20.3   1. ]\n",
      " [ 35.2   1. ]\n",
      " [ 23.7   1. ]\n",
      " [ 17.6   1. ]\n",
      " [  8.3   1. ]\n",
      " [ 27.4   1. ]\n",
      " [ 29.7   1. ]\n",
      " [ 71.8   1. ]\n",
      " [ 30.    1. ]\n",
      " [ 19.6   1. ]\n",
      " [ 26.6   1. ]\n",
      " [ 18.2   1. ]\n",
      " [  3.7   1. ]\n",
      " [ 23.4   1. ]\n",
      " [  5.8   1. ]\n",
      " [  6.    1. ]\n",
      " [ 31.6   1. ]\n",
      " [  3.6   1. ]\n",
      " [  6.    1. ]\n",
      " [ 13.8   1. ]\n",
      " [  8.1   1. ]\n",
      " [  6.4   1. ]\n",
      " [ 66.2   1. ]\n",
      " [  8.7   1. ]]\n",
      "(200, 2)\n"
     ]
    }
   ],
   "source": [
    "X_np=np.hstack((x_np,(np.ones(x_np.shape))))\n",
    "print(X_np)\n",
    "print(X_np.shape)"
   ]
  },
  {
   "cell_type": "code",
   "execution_count": 407,
   "id": "7a392473",
   "metadata": {},
   "outputs": [
    {
     "name": "stdout",
     "output_type": "stream",
     "text": [
      "(160, 1)\n",
      "(40, 1)\n",
      "(160, 1)\n",
      "(40, 1)\n"
     ]
    }
   ],
   "source": [
    "x_np_train, x_np_test, y_np_train, y_np_test = train_test_split(x_np, y_np, test_size=0.2, random_state=42)\n",
    "print(x_np_train.shape)\n",
    "print(x_np_test.shape)\n",
    "print(y_np_train.shape)\n",
    "print(y_np_test.shape)"
   ]
  },
  {
   "cell_type": "code",
   "execution_count": 408,
   "id": "4204b461",
   "metadata": {},
   "outputs": [
    {
     "name": "stdout",
     "output_type": "stream",
     "text": [
      "(160, 2)\n",
      "(40, 2)\n",
      "(160, 1)\n",
      "(40, 1)\n"
     ]
    }
   ],
   "source": [
    "X_np_train=np.hstack((x_np_train,(np.ones(x_np_train.shape))))\n",
    "X_np_test=np.hstack((x_np_test,(np.ones(x_np_test.shape))))\n",
    "print(X_np_train.shape)\n",
    "print(X_np_test.shape)\n",
    "print(y_np_train.shape)\n",
    "print(y_np_test.shape)"
   ]
  },
  {
   "cell_type": "code",
   "execution_count": 409,
   "id": "e4b18feb",
   "metadata": {},
   "outputs": [
    {
     "data": {
      "image/png": "[encoded data removed]",
      "text/plain": [
       "<Figure size 640x480 with 1 Axes>"
      ]
     },
     "metadata": {},
     "output_type": "display_data"
    }
   ],
   "source": [
    "plt.plot(x_np_train,y_np_train,'o',label='dataset entraînement')\n",
    "plt.plot(x_np_train, model(X_np_train, theta), c='r',label='modèle initial')\n",
    "plt.xlabel('Newspaper')\n",
    "plt.ylabel('Sales')\n",
    "plt.legend()\n",
    "plt.show()"
   ]
  },
  {
   "cell_type": "code",
   "execution_count": 410,
   "id": "54e0fa17",
   "metadata": {},
   "outputs": [
    {
     "data": {
      "text/plain": [
       "1343.940872753667"
      ]
     },
     "execution_count": 410,
     "metadata": {},
     "output_type": "execute_result"
    }
   ],
   "source": [
    "cost_function(X_np_train, y_np_train, theta)"
   ]
  },
  {
   "cell_type": "code",
   "execution_count": 411,
   "id": "8ca29286",
   "metadata": {},
   "outputs": [],
   "source": [
    "n_iterations = 1000000\n",
    "learning_rate = 0.00001\n",
    "\n",
    "\n",
    "theta_final_np, cost_history_np = gradient_descent(X_np_train, y_np_train, theta, learning_rate, n_iterations)"
   ]
  },
  {
   "cell_type": "code",
   "execution_count": 412,
   "id": "3d57891e",
   "metadata": {},
   "outputs": [
    {
     "data": {
      "image/png": "[encoded data removed]",
      "text/plain": [
       "<Figure size 640x480 with 1 Axes>"
      ]
     },
     "metadata": {},
     "output_type": "display_data"
    }
   ],
   "source": [
    "plt.plot(x_np_train,y_np_train,'o',label='dataset entraînement')\n",
    "plt.plot(x_np_train, model(X_np_train, theta_final_np), c='r',label='modèle final')\n",
    "plt.xlabel('Newspaper')\n",
    "plt.ylabel('Sales')\n",
    "plt.legend()\n",
    "plt.show()"
   ]
  },
  {
   "cell_type": "code",
   "execution_count": 413,
   "id": "6c619394",
   "metadata": {},
   "outputs": [
    {
     "data": {
      "image/png": "[encoded data removed]",
      "text/plain": [
       "<Figure size 640x480 with 1 Axes>"
      ]
     },
     "metadata": {},
     "output_type": "display_data"
    }
   ],
   "source": [
    "# création d'un vecteur prédictions qui contient les prédictions de notre modele final\n",
    "predictions_np = model(X_np_test, theta_final_np)\n",
    "\n",
    "# Affichage des résultats de prédictions (en rouge) par rapport a notre Dataset (en bleu)\n",
    "plt.plot(x_np_test,y_np_test,'o',label='dataset test')\n",
    "plt.plot(x_np_test,predictions_np , c='r',label='prédictions')\n",
    "plt.xlabel('Newspaper')\n",
    "plt.ylabel('Sales')\n",
    "plt.legend()\n",
    "plt.show()"
   ]
  },
  {
   "cell_type": "code",
   "execution_count": 415,
   "id": "b6d6e7dc",
   "metadata": {},
   "outputs": [
    {
     "data": {
      "image/png": "[encoded data removed]",
      "text/plain": [
       "<Figure size 640x480 with 1 Axes>"
      ]
     },
     "metadata": {},
     "output_type": "display_data"
    }
   ],
   "source": [
    "plt.plot(range(n_iterations), cost_history_np)\n",
    "plt.show()"
   ]
  },
  {
   "cell_type": "code",
   "execution_count": 427,
   "id": "28aead06",
   "metadata": {},
   "outputs": [
    {
     "name": "stdout",
     "output_type": "stream",
     "text": [
      "0.014945376940943889\n",
      "0.016988322506729103\n"
     ]
    }
   ],
   "source": [
    "coef_np_test = coef_determination(y_np_test, predictions_np)\n",
    "print(coef_np_test)\n",
    "coef_np_train = coef_determination(y_np_train, model(X_np_train, theta_final_np))\n",
    "print(coef_np_train)"
   ]
  },
  {
   "cell_type": "code",
   "execution_count": 428,
   "id": "f3cfaf90",
   "metadata": {},
   "outputs": [
    {
     "name": "stdout",
     "output_type": "stream",
     "text": [
      "0.8025744457911833\n",
      "0.10702965412967036\n",
      "0.014945376940943889\n"
     ]
    }
   ],
   "source": [
    "print(coef_test_tv)\n",
    "print(coef_radio_test)\n",
    "print(coef_np_test)"
   ]
  },
  {
   "cell_type": "code",
   "execution_count": 429,
   "id": "a79b6e7c",
   "metadata": {},
   "outputs": [
    {
     "name": "stdout",
     "output_type": "stream",
     "text": [
      "0.8134863779301086\n",
      "0.11704492652440235\n",
      "0.016988322506729103\n"
     ]
    }
   ],
   "source": [
    "print(coef_train_tv)\n",
    "print(coef_radio_train)\n",
    "print(coef_np_train)"
   ]
  },
  {
   "cell_type": "code",
   "execution_count": 430,
   "id": "fe7d526a",
   "metadata": {},
   "outputs": [
    {
     "name": "stdout",
     "output_type": "stream",
     "text": [
      "0.9012079133023315\n",
      "0.34963109700766926\n",
      "0.15796002615492621\n"
     ]
    }
   ],
   "source": [
    "print(tv_dataset.corr().Sales.TV)\n",
    "print(radio_dataset.corr().Sales.Radio)\n",
    "print(newspaper_dataset.corr().Sales.Newspaper)"
   ]
  },
  {
   "cell_type": "code",
   "execution_count": 433,
   "id": "2b9af0a2",
   "metadata": {},
   "outputs": [
    {
     "name": "stdout",
     "output_type": "stream",
     "text": [
      "                         TV     Radio  Newspaper\n",
      "Coefficient Test   0.802574  0.107030   0.014945\n",
      "Coefficient Train  0.813486  0.117045   0.016988\n",
      "Correlation        0.901208  0.349631   0.157960\n"
     ]
    }
   ],
   "source": [
    "data = {\n",
    "    'TV': [coef_test_tv, coef_train_tv, tv_dataset.corr().Sales.TV],\n",
    "    'Radio': [coef_radio_test, coef_radio_train, radio_dataset.corr().Sales.Radio],\n",
    "    'Newspaper': [coef_np_test, coef_np_train, newspaper_dataset.corr().Sales.Newspaper]\n",
    "}\n",
    "# Define the row and column labels\n",
    "rows = ['Coefficient Test', 'Coefficient Train', 'Correlation']\n",
    "columns = ['TV', 'Radio', 'Newspaper']\n",
    "\n",
    "# Create the DataFrame\n",
    "df = pd.DataFrame(data, index=rows, columns=columns)\n",
    "print(df)"
   ]
  },
  {
   "cell_type": "code",
   "execution_count": null,
   "id": "f5cc06d8",
   "metadata": {},
   "outputs": [],
   "source": []
  }
 ],
 "metadata": {
  "kernelspec": {
   "display_name": "Python 3 (ipykernel)",
   "language": "python",
   "name": "python3"
  },
  "language_info": {
   "codemirror_mode": {
    "name": "ipython",
    "version": 3
   },
   "file_extension": ".py",
   "mimetype": "text/x-python",
   "name": "python",
   "nbconvert_exporter": "python",
   "pygments_lexer": "ipython3",
   "version": "3.11.5"
  }
 },
 "nbformat": 4,
 "nbformat_minor": 5
}
